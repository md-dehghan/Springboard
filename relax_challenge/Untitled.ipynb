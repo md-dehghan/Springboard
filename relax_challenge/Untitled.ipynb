{
 "cells": [
  {
   "cell_type": "markdown",
   "id": "e6028419",
   "metadata": {},
   "source": [
    "The data has the following two tables:\n",
    "1] A user table ( \"takehome_users\" ) with data on 12,000 users who signed up for the\n",
    "product in the last two years. This table includes:\n",
    "    \n",
    "● name: the user's name\n",
    "    \n",
    "● object_id: the user's id\n",
    "    \n",
    "● email: email address\n",
    "    \n",
    "● creation_source: how their account was created. This takes on one of 5 values:\n",
    "        \n",
    "○ PERSONAL_PROJECTS: invited to join another user's personal workspace\n",
    "    \n",
    "○ GUEST_INVITE: invited to an organization as a guest(limited permissions)\n",
    "    \n",
    "○ ORG_INVITE: invited to an organization (as a full member)\n",
    "    \n",
    "○ SIGNUP: signed up via the website\n",
    "    \n",
    "○ SIGNUP_GOOGLE_AUTH: signed up using Google\n",
    "    \n",
    "Authentication (using a Google email account for their login id)\n",
    "\n",
    "● creation_time: when they created their account\n",
    "    \n",
    "● last_session_creation_time: unix timestamp of last login\n",
    "    \n",
    "● opted_in_to_mailing_list: whether they have opted into receiving marketing emails\n",
    "    \n",
    "● enabled_for_marketing_drip: whether they are on the regular marketing email drip\n",
    "    \n",
    "● org_id: the organization (group of users) they belong to\n",
    "    \n",
    "● invited_by_user_id: which user invited them to join (if applicable).\n",
    "    \n",
    "2] A usage summary table ( \"takehome_user_engagement\" ) that has a row for each day\n",
    "that a user logged into the product.\n",
    "\n",
    "Defining an \"adopted user\" as a user who has logged into the product on three separate days in at least one sevenday period , identify which factors predict future user adoption .\n",
    "\n",
    "We suggest spending 1-2 hours on this, but you're welcome to spend more or less.\n",
    "\n",
    "Please send us a brief writeup of your findings (the more concise, the better no more than one page), along with any summary tables, graphs, code, or queries that can help us understand your approach. Please note any factors you considered or investigation you did, even if they did not pan out. Feel free to identify any further research or data you think would be valuable."
   ]
  },
  {
   "cell_type": "code",
   "execution_count": 254,
   "id": "7fdd638b",
   "metadata": {},
   "outputs": [],
   "source": [
    "import pandas as pd \n",
    "import numpy as np\n",
    "import matplotlib.pyplot as plt\n",
    "import seaborn as sns \n",
    "from datetime import timedelta\n",
    "from datetime import date\n",
    "\n",
    "import seaborn as sns\n",
    "from sklearn.preprocessing import MinMaxScaler \n",
    "from sklearn.model_selection import train_test_split\n",
    "from sklearn.svm import LinearSVC\n",
    "from sklearn.metrics import classification_report\n",
    "from sklearn.neighbors import KNeighborsClassifier \n",
    "from sklearn.ensemble import RandomForestClassifier\n",
    "from sklearn.model_selection import GridSearchCV"
   ]
  },
  {
   "cell_type": "code",
   "execution_count": 195,
   "id": "d87e3e7e",
   "metadata": {},
   "outputs": [],
   "source": [
    "user_engagement = pd.read_csv('takehome_user_engagement.csv')"
   ]
  },
  {
   "cell_type": "code",
   "execution_count": 223,
   "id": "f1949cb7",
   "metadata": {},
   "outputs": [],
   "source": [
    "users = pd.read_csv('takehome_users.csv',encoding=\"ISO-8859-1\")"
   ]
  },
  {
   "cell_type": "code",
   "execution_count": 197,
   "id": "8226d757",
   "metadata": {},
   "outputs": [
    {
     "data": {
      "text/html": [
       "<div>\n",
       "<style scoped>\n",
       "    .dataframe tbody tr th:only-of-type {\n",
       "        vertical-align: middle;\n",
       "    }\n",
       "\n",
       "    .dataframe tbody tr th {\n",
       "        vertical-align: top;\n",
       "    }\n",
       "\n",
       "    .dataframe thead th {\n",
       "        text-align: right;\n",
       "    }\n",
       "</style>\n",
       "<table border=\"1\" class=\"dataframe\">\n",
       "  <thead>\n",
       "    <tr style=\"text-align: right;\">\n",
       "      <th></th>\n",
       "      <th>time_stamp</th>\n",
       "      <th>user_id</th>\n",
       "      <th>visited</th>\n",
       "    </tr>\n",
       "  </thead>\n",
       "  <tbody>\n",
       "    <tr>\n",
       "      <th>0</th>\n",
       "      <td>2014-04-22 03:53:30</td>\n",
       "      <td>1</td>\n",
       "      <td>1</td>\n",
       "    </tr>\n",
       "    <tr>\n",
       "      <th>1</th>\n",
       "      <td>2013-11-15 03:45:04</td>\n",
       "      <td>2</td>\n",
       "      <td>1</td>\n",
       "    </tr>\n",
       "    <tr>\n",
       "      <th>2</th>\n",
       "      <td>2013-11-29 03:45:04</td>\n",
       "      <td>2</td>\n",
       "      <td>1</td>\n",
       "    </tr>\n",
       "    <tr>\n",
       "      <th>3</th>\n",
       "      <td>2013-12-09 03:45:04</td>\n",
       "      <td>2</td>\n",
       "      <td>1</td>\n",
       "    </tr>\n",
       "    <tr>\n",
       "      <th>4</th>\n",
       "      <td>2013-12-25 03:45:04</td>\n",
       "      <td>2</td>\n",
       "      <td>1</td>\n",
       "    </tr>\n",
       "  </tbody>\n",
       "</table>\n",
       "</div>"
      ],
      "text/plain": [
       "            time_stamp  user_id  visited\n",
       "0  2014-04-22 03:53:30        1        1\n",
       "1  2013-11-15 03:45:04        2        1\n",
       "2  2013-11-29 03:45:04        2        1\n",
       "3  2013-12-09 03:45:04        2        1\n",
       "4  2013-12-25 03:45:04        2        1"
      ]
     },
     "execution_count": 197,
     "metadata": {},
     "output_type": "execute_result"
    }
   ],
   "source": [
    "user_engagement.head()"
   ]
  },
  {
   "cell_type": "code",
   "execution_count": 198,
   "id": "dadb970e",
   "metadata": {},
   "outputs": [
    {
     "name": "stdout",
     "output_type": "stream",
     "text": [
      "<class 'pandas.core.frame.DataFrame'>\n",
      "RangeIndex: 207917 entries, 0 to 207916\n",
      "Data columns (total 3 columns):\n",
      " #   Column      Non-Null Count   Dtype \n",
      "---  ------      --------------   ----- \n",
      " 0   time_stamp  207917 non-null  object\n",
      " 1   user_id     207917 non-null  int64 \n",
      " 2   visited     207917 non-null  int64 \n",
      "dtypes: int64(2), object(1)\n",
      "memory usage: 4.8+ MB\n"
     ]
    }
   ],
   "source": [
    "user_engagement.info()"
   ]
  },
  {
   "cell_type": "code",
   "execution_count": 199,
   "id": "cc3f3f90",
   "metadata": {},
   "outputs": [
    {
     "data": {
      "text/plain": [
       "8823"
      ]
     },
     "execution_count": 199,
     "metadata": {},
     "output_type": "execute_result"
    }
   ],
   "source": [
    "user_engagement['user_id'].nunique()"
   ]
  },
  {
   "cell_type": "markdown",
   "id": "a181ad75",
   "metadata": {},
   "source": [
    "There are 207917 logins and 8823 users "
   ]
  },
  {
   "cell_type": "code",
   "execution_count": 200,
   "id": "e1af1259",
   "metadata": {},
   "outputs": [],
   "source": [
    "user_engagement['time_stamp'] = pd.to_datetime(user_engagement['time_stamp'])"
   ]
  },
  {
   "cell_type": "code",
   "execution_count": 201,
   "id": "0ce82db0",
   "metadata": {},
   "outputs": [],
   "source": [
    "# define a function to see if a user logged in on 3 seperate days in a 7-day period.\n",
    "def logins_in_days(df, days=7, logins=3):\n",
    "    df['date'] = df['time_stamp'].dt.date\n",
    "    df = df.drop_duplicates(subset='date').sort_values('date')\n",
    "    passed_days = df['date'].diff(periods=logins-1)\n",
    "    return any(passed_days <= timedelta(days=days))"
   ]
  },
  {
   "cell_type": "code",
   "execution_count": 202,
   "id": "4717a175",
   "metadata": {},
   "outputs": [],
   "source": [
    "# run the function on all users\n",
    "adopted = user_engagement.groupby('user_id').apply(logins_in_days)\n",
    "adopted.name = 'adopted_user'"
   ]
  },
  {
   "cell_type": "code",
   "execution_count": 203,
   "id": "26c98d18",
   "metadata": {},
   "outputs": [
    {
     "data": {
      "text/plain": [
       "user_id\n",
       "1        False\n",
       "2         True\n",
       "3        False\n",
       "4        False\n",
       "5        False\n",
       "         ...  \n",
       "11996    False\n",
       "11997    False\n",
       "11998    False\n",
       "11999    False\n",
       "12000    False\n",
       "Name: adopted_user, Length: 8823, dtype: bool"
      ]
     },
     "execution_count": 203,
     "metadata": {},
     "output_type": "execute_result"
    }
   ],
   "source": [
    "adopted"
   ]
  },
  {
   "cell_type": "code",
   "execution_count": 204,
   "id": "de4bda37",
   "metadata": {},
   "outputs": [
    {
     "name": "stdout",
     "output_type": "stream",
     "text": [
      "There were 1656 adopted users out of 8823 users\n"
     ]
    }
   ],
   "source": [
    "print('There were {} adopted users out of {} users'.format(sum(adopted), len(adopted)))"
   ]
  },
  {
   "cell_type": "code",
   "execution_count": 205,
   "id": "32040d5a",
   "metadata": {},
   "outputs": [
    {
     "data": {
      "text/html": [
       "<div>\n",
       "<style scoped>\n",
       "    .dataframe tbody tr th:only-of-type {\n",
       "        vertical-align: middle;\n",
       "    }\n",
       "\n",
       "    .dataframe tbody tr th {\n",
       "        vertical-align: top;\n",
       "    }\n",
       "\n",
       "    .dataframe thead th {\n",
       "        text-align: right;\n",
       "    }\n",
       "</style>\n",
       "<table border=\"1\" class=\"dataframe\">\n",
       "  <thead>\n",
       "    <tr style=\"text-align: right;\">\n",
       "      <th></th>\n",
       "      <th>object_id</th>\n",
       "      <th>creation_time</th>\n",
       "      <th>name</th>\n",
       "      <th>email</th>\n",
       "      <th>creation_source</th>\n",
       "      <th>last_session_creation_time</th>\n",
       "      <th>opted_in_to_mailing_list</th>\n",
       "      <th>enabled_for_marketing_drip</th>\n",
       "      <th>org_id</th>\n",
       "      <th>invited_by_user_id</th>\n",
       "    </tr>\n",
       "  </thead>\n",
       "  <tbody>\n",
       "    <tr>\n",
       "      <th>0</th>\n",
       "      <td>1</td>\n",
       "      <td>2014-04-22 03:53:30</td>\n",
       "      <td>Clausen August</td>\n",
       "      <td>AugustCClausen@yahoo.com</td>\n",
       "      <td>GUEST_INVITE</td>\n",
       "      <td>1.398139e+09</td>\n",
       "      <td>1</td>\n",
       "      <td>0</td>\n",
       "      <td>11</td>\n",
       "      <td>10803.0</td>\n",
       "    </tr>\n",
       "    <tr>\n",
       "      <th>1</th>\n",
       "      <td>2</td>\n",
       "      <td>2013-11-15 03:45:04</td>\n",
       "      <td>Poole Matthew</td>\n",
       "      <td>MatthewPoole@gustr.com</td>\n",
       "      <td>ORG_INVITE</td>\n",
       "      <td>1.396238e+09</td>\n",
       "      <td>0</td>\n",
       "      <td>0</td>\n",
       "      <td>1</td>\n",
       "      <td>316.0</td>\n",
       "    </tr>\n",
       "    <tr>\n",
       "      <th>2</th>\n",
       "      <td>3</td>\n",
       "      <td>2013-03-19 23:14:52</td>\n",
       "      <td>Bottrill Mitchell</td>\n",
       "      <td>MitchellBottrill@gustr.com</td>\n",
       "      <td>ORG_INVITE</td>\n",
       "      <td>1.363735e+09</td>\n",
       "      <td>0</td>\n",
       "      <td>0</td>\n",
       "      <td>94</td>\n",
       "      <td>1525.0</td>\n",
       "    </tr>\n",
       "    <tr>\n",
       "      <th>3</th>\n",
       "      <td>4</td>\n",
       "      <td>2013-05-21 08:09:28</td>\n",
       "      <td>Clausen Nicklas</td>\n",
       "      <td>NicklasSClausen@yahoo.com</td>\n",
       "      <td>GUEST_INVITE</td>\n",
       "      <td>1.369210e+09</td>\n",
       "      <td>0</td>\n",
       "      <td>0</td>\n",
       "      <td>1</td>\n",
       "      <td>5151.0</td>\n",
       "    </tr>\n",
       "    <tr>\n",
       "      <th>4</th>\n",
       "      <td>5</td>\n",
       "      <td>2013-01-17 10:14:20</td>\n",
       "      <td>Raw Grace</td>\n",
       "      <td>GraceRaw@yahoo.com</td>\n",
       "      <td>GUEST_INVITE</td>\n",
       "      <td>1.358850e+09</td>\n",
       "      <td>0</td>\n",
       "      <td>0</td>\n",
       "      <td>193</td>\n",
       "      <td>5240.0</td>\n",
       "    </tr>\n",
       "  </tbody>\n",
       "</table>\n",
       "</div>"
      ],
      "text/plain": [
       "   object_id        creation_time               name  \\\n",
       "0          1  2014-04-22 03:53:30     Clausen August   \n",
       "1          2  2013-11-15 03:45:04      Poole Matthew   \n",
       "2          3  2013-03-19 23:14:52  Bottrill Mitchell   \n",
       "3          4  2013-05-21 08:09:28    Clausen Nicklas   \n",
       "4          5  2013-01-17 10:14:20          Raw Grace   \n",
       "\n",
       "                        email creation_source  last_session_creation_time  \\\n",
       "0    AugustCClausen@yahoo.com    GUEST_INVITE                1.398139e+09   \n",
       "1      MatthewPoole@gustr.com      ORG_INVITE                1.396238e+09   \n",
       "2  MitchellBottrill@gustr.com      ORG_INVITE                1.363735e+09   \n",
       "3   NicklasSClausen@yahoo.com    GUEST_INVITE                1.369210e+09   \n",
       "4          GraceRaw@yahoo.com    GUEST_INVITE                1.358850e+09   \n",
       "\n",
       "   opted_in_to_mailing_list  enabled_for_marketing_drip  org_id  \\\n",
       "0                         1                           0      11   \n",
       "1                         0                           0       1   \n",
       "2                         0                           0      94   \n",
       "3                         0                           0       1   \n",
       "4                         0                           0     193   \n",
       "\n",
       "   invited_by_user_id  \n",
       "0             10803.0  \n",
       "1               316.0  \n",
       "2              1525.0  \n",
       "3              5151.0  \n",
       "4              5240.0  "
      ]
     },
     "execution_count": 205,
     "metadata": {},
     "output_type": "execute_result"
    }
   ],
   "source": [
    "users.head()"
   ]
  },
  {
   "cell_type": "code",
   "execution_count": 224,
   "id": "94ac976f",
   "metadata": {},
   "outputs": [],
   "source": [
    "users = users.drop(['name','email'],axis =1)"
   ]
  },
  {
   "cell_type": "code",
   "execution_count": 225,
   "id": "537919f1",
   "metadata": {},
   "outputs": [],
   "source": [
    "users['last_session_creation_time']= pd.to_datetime(users['last_session_creation_time'], unit='s')"
   ]
  },
  {
   "cell_type": "code",
   "execution_count": 226,
   "id": "fe10d0c3",
   "metadata": {},
   "outputs": [],
   "source": [
    "users['creation_time']= pd.to_datetime(users['creation_time'],format='%Y-%m-%d %H:%M:%S')"
   ]
  },
  {
   "cell_type": "code",
   "execution_count": 227,
   "id": "8ba636ee",
   "metadata": {},
   "outputs": [],
   "source": [
    "users['acount_history']=  users['last_session_creation_time'] - users['creation_time']"
   ]
  },
  {
   "cell_type": "code",
   "execution_count": 228,
   "id": "4f4c925d",
   "metadata": {},
   "outputs": [],
   "source": [
    "users['acount_history'] = users['acount_history'].dt.days"
   ]
  },
  {
   "cell_type": "code",
   "execution_count": 230,
   "id": "8db9e000",
   "metadata": {},
   "outputs": [],
   "source": [
    "users['age_account'] = max(users['creation_time']) - users['creation_time']\n"
   ]
  },
  {
   "cell_type": "code",
   "execution_count": 231,
   "id": "f0be0cca",
   "metadata": {},
   "outputs": [],
   "source": [
    "users['age_account'] = users['age_account'].dt.days"
   ]
  },
  {
   "cell_type": "code",
   "execution_count": 232,
   "id": "09b064a4",
   "metadata": {},
   "outputs": [],
   "source": [
    "users = users.drop(['last_session_creation_time','creation_time'],axis =1)"
   ]
  },
  {
   "cell_type": "code",
   "execution_count": 233,
   "id": "f4048df8",
   "metadata": {},
   "outputs": [],
   "source": [
    "users.rename(columns={'object_id': 'user_id'},inplace=True)\n"
   ]
  },
  {
   "cell_type": "code",
   "execution_count": 234,
   "id": "9e974441",
   "metadata": {},
   "outputs": [],
   "source": [
    "users = pd.merge(users,adopted,how='inner',on='user_id')"
   ]
  },
  {
   "cell_type": "code",
   "execution_count": 235,
   "id": "60c345c3",
   "metadata": {},
   "outputs": [
    {
     "data": {
      "text/plain": [
       "user_id                          0\n",
       "creation_source                  0\n",
       "opted_in_to_mailing_list         0\n",
       "enabled_for_marketing_drip       0\n",
       "org_id                           0\n",
       "invited_by_user_id            4047\n",
       "acount_history                   0\n",
       "age_account                      0\n",
       "adopted_user                     0\n",
       "dtype: int64"
      ]
     },
     "execution_count": 235,
     "metadata": {},
     "output_type": "execute_result"
    }
   ],
   "source": [
    "users.isna().sum()"
   ]
  },
  {
   "cell_type": "code",
   "execution_count": 236,
   "id": "37aa2ec0",
   "metadata": {},
   "outputs": [
    {
     "data": {
      "text/html": [
       "<div>\n",
       "<style scoped>\n",
       "    .dataframe tbody tr th:only-of-type {\n",
       "        vertical-align: middle;\n",
       "    }\n",
       "\n",
       "    .dataframe tbody tr th {\n",
       "        vertical-align: top;\n",
       "    }\n",
       "\n",
       "    .dataframe thead th {\n",
       "        text-align: right;\n",
       "    }\n",
       "</style>\n",
       "<table border=\"1\" class=\"dataframe\">\n",
       "  <thead>\n",
       "    <tr style=\"text-align: right;\">\n",
       "      <th></th>\n",
       "      <th>user_id</th>\n",
       "      <th>creation_source</th>\n",
       "      <th>opted_in_to_mailing_list</th>\n",
       "      <th>enabled_for_marketing_drip</th>\n",
       "      <th>org_id</th>\n",
       "      <th>invited_by_user_id</th>\n",
       "      <th>acount_history</th>\n",
       "      <th>age_account</th>\n",
       "      <th>adopted_user</th>\n",
       "    </tr>\n",
       "  </thead>\n",
       "  <tbody>\n",
       "    <tr>\n",
       "      <th>0</th>\n",
       "      <td>1</td>\n",
       "      <td>GUEST_INVITE</td>\n",
       "      <td>1</td>\n",
       "      <td>0</td>\n",
       "      <td>11</td>\n",
       "      <td>10803.0</td>\n",
       "      <td>0.0</td>\n",
       "      <td>38</td>\n",
       "      <td>False</td>\n",
       "    </tr>\n",
       "    <tr>\n",
       "      <th>1</th>\n",
       "      <td>2</td>\n",
       "      <td>ORG_INVITE</td>\n",
       "      <td>0</td>\n",
       "      <td>0</td>\n",
       "      <td>1</td>\n",
       "      <td>316.0</td>\n",
       "      <td>136.0</td>\n",
       "      <td>196</td>\n",
       "      <td>True</td>\n",
       "    </tr>\n",
       "    <tr>\n",
       "      <th>2</th>\n",
       "      <td>3</td>\n",
       "      <td>ORG_INVITE</td>\n",
       "      <td>0</td>\n",
       "      <td>0</td>\n",
       "      <td>94</td>\n",
       "      <td>1525.0</td>\n",
       "      <td>0.0</td>\n",
       "      <td>437</td>\n",
       "      <td>False</td>\n",
       "    </tr>\n",
       "    <tr>\n",
       "      <th>3</th>\n",
       "      <td>4</td>\n",
       "      <td>GUEST_INVITE</td>\n",
       "      <td>0</td>\n",
       "      <td>0</td>\n",
       "      <td>1</td>\n",
       "      <td>5151.0</td>\n",
       "      <td>1.0</td>\n",
       "      <td>374</td>\n",
       "      <td>False</td>\n",
       "    </tr>\n",
       "    <tr>\n",
       "      <th>4</th>\n",
       "      <td>5</td>\n",
       "      <td>GUEST_INVITE</td>\n",
       "      <td>0</td>\n",
       "      <td>0</td>\n",
       "      <td>193</td>\n",
       "      <td>5240.0</td>\n",
       "      <td>5.0</td>\n",
       "      <td>498</td>\n",
       "      <td>False</td>\n",
       "    </tr>\n",
       "  </tbody>\n",
       "</table>\n",
       "</div>"
      ],
      "text/plain": [
       "   user_id creation_source  opted_in_to_mailing_list  \\\n",
       "0        1    GUEST_INVITE                         1   \n",
       "1        2      ORG_INVITE                         0   \n",
       "2        3      ORG_INVITE                         0   \n",
       "3        4    GUEST_INVITE                         0   \n",
       "4        5    GUEST_INVITE                         0   \n",
       "\n",
       "   enabled_for_marketing_drip  org_id  invited_by_user_id  acount_history  \\\n",
       "0                           0      11             10803.0             0.0   \n",
       "1                           0       1               316.0           136.0   \n",
       "2                           0      94              1525.0             0.0   \n",
       "3                           0       1              5151.0             1.0   \n",
       "4                           0     193              5240.0             5.0   \n",
       "\n",
       "   age_account  adopted_user  \n",
       "0           38         False  \n",
       "1          196          True  \n",
       "2          437         False  \n",
       "3          374         False  \n",
       "4          498         False  "
      ]
     },
     "execution_count": 236,
     "metadata": {},
     "output_type": "execute_result"
    }
   ],
   "source": [
    "users.head()"
   ]
  },
  {
   "cell_type": "markdown",
   "id": "cc0d3b07",
   "metadata": {},
   "source": [
    "## EDA"
   ]
  },
  {
   "cell_type": "code",
   "execution_count": 237,
   "id": "b1109b51",
   "metadata": {},
   "outputs": [
    {
     "data": {
      "image/png": "[encoded data removed]",
      "text/plain": [
       "<Figure size 432x288 with 1 Axes>"
      ]
     },
     "metadata": {},
     "output_type": "display_data"
    }
   ],
   "source": [
    "# Creation source and adopted user\n",
    "_ = sns.countplot(x='creation_source', data=users, hue='adopted_user')\n",
    "_ = plt.xticks(rotation=90)"
   ]
  },
  {
   "cell_type": "markdown",
   "id": "20bbf04c",
   "metadata": {},
   "source": [
    "The number of adopteds user are same between differnt sources, but the number of people who are not active (adopted=False) is much higher in ORG_INVITE"
   ]
  },
  {
   "cell_type": "code",
   "execution_count": 241,
   "id": "119b7a0b",
   "metadata": {},
   "outputs": [
    {
     "data": {
      "image/png": "[encoded data removed]",
      "text/plain": [
       "<Figure size 442.175x360 with 1 Axes>"
      ]
     },
     "metadata": {},
     "output_type": "display_data"
    }
   ],
   "source": [
    "_ = sns.set()\n",
    "_ = sns.catplot(x=\"opted_in_to_mailing_list\", y=\"enabled_for_marketing_drip\", hue='adopted_user', kind='bar', data=users)\n",
    "_ = plt.title(\"marketing email drip versus people in the mailing list\", size='large')\n",
    "\n"
   ]
  },
  {
   "cell_type": "markdown",
   "id": "c9a16c07",
   "metadata": {},
   "source": [
    "This graph make sense as people who have opted into receiving marketing emails, they are more on the regular marketing email drip"
   ]
  },
  {
   "cell_type": "markdown",
   "id": "4750c7c0",
   "metadata": {},
   "source": [
    "### Preparing the data for modeling"
   ]
  },
  {
   "cell_type": "code",
   "execution_count": 245,
   "id": "4571574f",
   "metadata": {},
   "outputs": [
    {
     "name": "stdout",
     "output_type": "stream",
     "text": [
      "<class 'pandas.core.frame.DataFrame'>\n",
      "Int64Index: 8823 entries, 0 to 8822\n",
      "Data columns (total 9 columns):\n",
      " #   Column                      Non-Null Count  Dtype  \n",
      "---  ------                      --------------  -----  \n",
      " 0   user_id                     8823 non-null   int64  \n",
      " 1   creation_source             8823 non-null   object \n",
      " 2   opted_in_to_mailing_list    8823 non-null   int64  \n",
      " 3   enabled_for_marketing_drip  8823 non-null   int64  \n",
      " 4   org_id                      8823 non-null   int64  \n",
      " 5   invited_by_user_id          4776 non-null   float64\n",
      " 6   acount_history              8823 non-null   float64\n",
      " 7   age_account                 8823 non-null   int64  \n",
      " 8   adopted_user                8823 non-null   bool   \n",
      "dtypes: bool(1), float64(2), int64(5), object(1)\n",
      "memory usage: 629.0+ KB\n"
     ]
    }
   ],
   "source": [
    "# finding the type and NAN value in the data \n",
    "users.info()"
   ]
  },
  {
   "cell_type": "markdown",
   "id": "9f383022",
   "metadata": {},
   "source": [
    "Since there are (8823 - 4776) missed value for invited_by_user_id( almost half of the data were missed), I excluded this columns "
   ]
  },
  {
   "cell_type": "code",
   "execution_count": 246,
   "id": "1d46458e",
   "metadata": {},
   "outputs": [],
   "source": [
    "users = users.drop(['invited_by_user_id'], axis =1)"
   ]
  },
  {
   "cell_type": "code",
   "execution_count": 335,
   "id": "74447859",
   "metadata": {},
   "outputs": [],
   "source": [
    "# get dummies ffor creation source feature\n",
    "creation_source = pd.get_dummies(users['creation_source'], drop_first=True)\n",
    "users_ML = pd.concat([creation_source,users],axis=1).drop('creation_source',axis=1)"
   ]
  },
  {
   "cell_type": "code",
   "execution_count": 336,
   "id": "e8261290",
   "metadata": {},
   "outputs": [
    {
     "name": "stdout",
     "output_type": "stream",
     "text": [
      "<class 'pandas.core.frame.DataFrame'>\n",
      "Int64Index: 8823 entries, 0 to 8822\n",
      "Data columns (total 11 columns):\n",
      " #   Column                      Non-Null Count  Dtype  \n",
      "---  ------                      --------------  -----  \n",
      " 0   ORG_INVITE                  8823 non-null   uint8  \n",
      " 1   PERSONAL_PROJECTS           8823 non-null   uint8  \n",
      " 2   SIGNUP                      8823 non-null   uint8  \n",
      " 3   SIGNUP_GOOGLE_AUTH          8823 non-null   uint8  \n",
      " 4   user_id                     8823 non-null   int64  \n",
      " 5   opted_in_to_mailing_list    8823 non-null   int64  \n",
      " 6   enabled_for_marketing_drip  8823 non-null   int64  \n",
      " 7   org_id                      8823 non-null   int64  \n",
      " 8   acount_history              8823 non-null   float64\n",
      " 9   age_account                 8823 non-null   int64  \n",
      " 10  adopted_user                8823 non-null   bool   \n",
      "dtypes: bool(1), float64(1), int64(5), uint8(4)\n",
      "memory usage: 525.6 KB\n"
     ]
    }
   ],
   "source": [
    "users_ML.info()"
   ]
  },
  {
   "cell_type": "code",
   "execution_count": 337,
   "id": "2cade12b",
   "metadata": {},
   "outputs": [
    {
     "data": {
      "text/plain": [
       "Index(['ORG_INVITE', 'PERSONAL_PROJECTS', 'SIGNUP', 'SIGNUP_GOOGLE_AUTH',\n",
       "       'user_id', 'opted_in_to_mailing_list', 'enabled_for_marketing_drip',\n",
       "       'org_id', 'acount_history', 'age_account', 'adopted_user'],\n",
       "      dtype='object')"
      ]
     },
     "execution_count": 337,
     "metadata": {},
     "output_type": "execute_result"
    }
   ],
   "source": [
    "users_ML.columns"
   ]
  },
  {
   "cell_type": "code",
   "execution_count": 338,
   "id": "52e0cde6",
   "metadata": {},
   "outputs": [
    {
     "data": {
      "text/html": [
       "<div>\n",
       "<style scoped>\n",
       "    .dataframe tbody tr th:only-of-type {\n",
       "        vertical-align: middle;\n",
       "    }\n",
       "\n",
       "    .dataframe tbody tr th {\n",
       "        vertical-align: top;\n",
       "    }\n",
       "\n",
       "    .dataframe thead th {\n",
       "        text-align: right;\n",
       "    }\n",
       "</style>\n",
       "<table border=\"1\" class=\"dataframe\">\n",
       "  <thead>\n",
       "    <tr style=\"text-align: right;\">\n",
       "      <th></th>\n",
       "      <th>acount_history</th>\n",
       "      <th>age_account</th>\n",
       "    </tr>\n",
       "  </thead>\n",
       "  <tbody>\n",
       "    <tr>\n",
       "      <th>0</th>\n",
       "      <td>0.000000</td>\n",
       "      <td>0.052126</td>\n",
       "    </tr>\n",
       "    <tr>\n",
       "      <th>1</th>\n",
       "      <td>0.186557</td>\n",
       "      <td>0.268861</td>\n",
       "    </tr>\n",
       "    <tr>\n",
       "      <th>2</th>\n",
       "      <td>0.000000</td>\n",
       "      <td>0.599451</td>\n",
       "    </tr>\n",
       "    <tr>\n",
       "      <th>3</th>\n",
       "      <td>0.001372</td>\n",
       "      <td>0.513032</td>\n",
       "    </tr>\n",
       "    <tr>\n",
       "      <th>4</th>\n",
       "      <td>0.006859</td>\n",
       "      <td>0.683128</td>\n",
       "    </tr>\n",
       "  </tbody>\n",
       "</table>\n",
       "</div>"
      ],
      "text/plain": [
       "   acount_history  age_account\n",
       "0        0.000000     0.052126\n",
       "1        0.186557     0.268861\n",
       "2        0.000000     0.599451\n",
       "3        0.001372     0.513032\n",
       "4        0.006859     0.683128"
      ]
     },
     "execution_count": 338,
     "metadata": {},
     "output_type": "execute_result"
    }
   ],
   "source": [
    "scaler = MinMaxScaler()\n",
    "users_scaled = users_ML[['acount_history','age_account']]\n",
    "users_scaled = scaler.fit_transform(users_scaled.to_numpy())\n",
    "users_scaled = pd.DataFrame(users_scaled, columns=['acount_history', 'age_account'])\n",
    " \n",
    "users_scaled.head()"
   ]
  },
  {
   "cell_type": "code",
   "execution_count": 339,
   "id": "fe46e23f",
   "metadata": {},
   "outputs": [],
   "source": [
    "users_ML = users_ML.drop(['acount_history','age_account'], axis=1)"
   ]
  },
  {
   "cell_type": "code",
   "execution_count": 340,
   "id": "525fd625",
   "metadata": {},
   "outputs": [],
   "source": [
    "users_ML = pd.concat([users_ML,users_scaled[['acount_history','age_account']]],axis=1)"
   ]
  },
  {
   "cell_type": "code",
   "execution_count": 341,
   "id": "caec3efc",
   "metadata": {},
   "outputs": [
    {
     "data": {
      "text/html": [
       "<div>\n",
       "<style scoped>\n",
       "    .dataframe tbody tr th:only-of-type {\n",
       "        vertical-align: middle;\n",
       "    }\n",
       "\n",
       "    .dataframe tbody tr th {\n",
       "        vertical-align: top;\n",
       "    }\n",
       "\n",
       "    .dataframe thead th {\n",
       "        text-align: right;\n",
       "    }\n",
       "</style>\n",
       "<table border=\"1\" class=\"dataframe\">\n",
       "  <thead>\n",
       "    <tr style=\"text-align: right;\">\n",
       "      <th></th>\n",
       "      <th>ORG_INVITE</th>\n",
       "      <th>PERSONAL_PROJECTS</th>\n",
       "      <th>SIGNUP</th>\n",
       "      <th>SIGNUP_GOOGLE_AUTH</th>\n",
       "      <th>user_id</th>\n",
       "      <th>opted_in_to_mailing_list</th>\n",
       "      <th>enabled_for_marketing_drip</th>\n",
       "      <th>org_id</th>\n",
       "      <th>adopted_user</th>\n",
       "      <th>acount_history</th>\n",
       "      <th>age_account</th>\n",
       "    </tr>\n",
       "  </thead>\n",
       "  <tbody>\n",
       "    <tr>\n",
       "      <th>0</th>\n",
       "      <td>0</td>\n",
       "      <td>0</td>\n",
       "      <td>0</td>\n",
       "      <td>0</td>\n",
       "      <td>1</td>\n",
       "      <td>1</td>\n",
       "      <td>0</td>\n",
       "      <td>11</td>\n",
       "      <td>False</td>\n",
       "      <td>0.000000</td>\n",
       "      <td>0.052126</td>\n",
       "    </tr>\n",
       "    <tr>\n",
       "      <th>1</th>\n",
       "      <td>1</td>\n",
       "      <td>0</td>\n",
       "      <td>0</td>\n",
       "      <td>0</td>\n",
       "      <td>2</td>\n",
       "      <td>0</td>\n",
       "      <td>0</td>\n",
       "      <td>1</td>\n",
       "      <td>True</td>\n",
       "      <td>0.186557</td>\n",
       "      <td>0.268861</td>\n",
       "    </tr>\n",
       "    <tr>\n",
       "      <th>2</th>\n",
       "      <td>1</td>\n",
       "      <td>0</td>\n",
       "      <td>0</td>\n",
       "      <td>0</td>\n",
       "      <td>3</td>\n",
       "      <td>0</td>\n",
       "      <td>0</td>\n",
       "      <td>94</td>\n",
       "      <td>False</td>\n",
       "      <td>0.000000</td>\n",
       "      <td>0.599451</td>\n",
       "    </tr>\n",
       "    <tr>\n",
       "      <th>3</th>\n",
       "      <td>0</td>\n",
       "      <td>0</td>\n",
       "      <td>0</td>\n",
       "      <td>0</td>\n",
       "      <td>4</td>\n",
       "      <td>0</td>\n",
       "      <td>0</td>\n",
       "      <td>1</td>\n",
       "      <td>False</td>\n",
       "      <td>0.001372</td>\n",
       "      <td>0.513032</td>\n",
       "    </tr>\n",
       "    <tr>\n",
       "      <th>4</th>\n",
       "      <td>0</td>\n",
       "      <td>0</td>\n",
       "      <td>0</td>\n",
       "      <td>0</td>\n",
       "      <td>5</td>\n",
       "      <td>0</td>\n",
       "      <td>0</td>\n",
       "      <td>193</td>\n",
       "      <td>False</td>\n",
       "      <td>0.006859</td>\n",
       "      <td>0.683128</td>\n",
       "    </tr>\n",
       "  </tbody>\n",
       "</table>\n",
       "</div>"
      ],
      "text/plain": [
       "   ORG_INVITE  PERSONAL_PROJECTS  SIGNUP  SIGNUP_GOOGLE_AUTH  user_id  \\\n",
       "0           0                  0       0                   0        1   \n",
       "1           1                  0       0                   0        2   \n",
       "2           1                  0       0                   0        3   \n",
       "3           0                  0       0                   0        4   \n",
       "4           0                  0       0                   0        5   \n",
       "\n",
       "   opted_in_to_mailing_list  enabled_for_marketing_drip  org_id  adopted_user  \\\n",
       "0                         1                           0      11         False   \n",
       "1                         0                           0       1          True   \n",
       "2                         0                           0      94         False   \n",
       "3                         0                           0       1         False   \n",
       "4                         0                           0     193         False   \n",
       "\n",
       "   acount_history  age_account  \n",
       "0        0.000000     0.052126  \n",
       "1        0.186557     0.268861  \n",
       "2        0.000000     0.599451  \n",
       "3        0.001372     0.513032  \n",
       "4        0.006859     0.683128  "
      ]
     },
     "execution_count": 341,
     "metadata": {},
     "output_type": "execute_result"
    }
   ],
   "source": [
    "users_ML.head()"
   ]
  },
  {
   "cell_type": "markdown",
   "id": "4f2ff5d3",
   "metadata": {},
   "source": [
    "### Predictive modeling "
   ]
  },
  {
   "cell_type": "code",
   "execution_count": 342,
   "id": "16aee390",
   "metadata": {},
   "outputs": [],
   "source": [
    "# divide the data into label and features for use in ml models\n",
    "y = users_ML['adopted_user']\n",
    "X = users_ML.drop(columns =['adopted_user','user_id','org_id'])\n",
    "\n",
    "# split the data into training and test sets\n",
    "X_train, X_test, y_train, y_test = train_test_split(X, y, test_size=0.30, random_state=42)"
   ]
  },
  {
   "cell_type": "markdown",
   "id": "21b1d191",
   "metadata": {},
   "source": [
    "### Random forest Classifer \n"
   ]
  },
  {
   "cell_type": "code",
   "execution_count": 343,
   "id": "ca3784f8",
   "metadata": {},
   "outputs": [],
   "source": [
    "RF= RandomForestClassifier(max_depth=3, random_state=0)\n",
    "RF.fit(X_train, y_train)\n",
    "y_predict = RF.predict(X_test)"
   ]
  },
  {
   "cell_type": "code",
   "execution_count": 344,
   "id": "8e13f036",
   "metadata": {},
   "outputs": [
    {
     "name": "stdout",
     "output_type": "stream",
     "text": [
      "Accuracy on training set = 0.9648639896373057\n",
      "Accuracy on test set = 0.9625991688704193\n"
     ]
    }
   ],
   "source": [
    "print('Accuracy on training set = {}'.format(RF.score(X_train, y_train)))\n",
    "print('Accuracy on test set = {}'.format(RF.score(X_test, y_test)))"
   ]
  },
  {
   "cell_type": "code",
   "execution_count": 345,
   "id": "f4e82be6",
   "metadata": {},
   "outputs": [
    {
     "name": "stdout",
     "output_type": "stream",
     "text": [
      "              precision    recall  f1-score   support\n",
      "\n",
      "       False       0.96      0.99      0.98      2136\n",
      "        True       0.96      0.84      0.90       511\n",
      "\n",
      "    accuracy                           0.96      2647\n",
      "   macro avg       0.96      0.92      0.94      2647\n",
      "weighted avg       0.96      0.96      0.96      2647\n",
      "\n"
     ]
    }
   ],
   "source": [
    "print(classification_report(y_test,y_predict))"
   ]
  },
  {
   "cell_type": "code",
   "execution_count": 346,
   "id": "97d8ca86",
   "metadata": {},
   "outputs": [],
   "source": [
    "#Hypertuning Random Forest \n",
    "param_grid = {\n",
    "    'max_depth': [3, 10, 20],\n",
    "    'min_samples_leaf': [1, 3, 5],\n",
    "    'min_samples_split': [2, 5, 10],\n",
    "    'n_estimators': [100, 250, 500,]\n",
    "}\n",
    "# Create a based model\n",
    "RF = RandomForestClassifier(random_state=0)\n",
    "# Instantiate the grid search model\n",
    "grid_search = GridSearchCV(estimator = RF, param_grid = param_grid, cv = 3, scoring='accuracy' )"
   ]
  },
  {
   "cell_type": "code",
   "execution_count": 347,
   "id": "85728f05",
   "metadata": {},
   "outputs": [
    {
     "data": {
      "text/plain": [
       "{'max_depth': 10,\n",
       " 'min_samples_leaf': 3,\n",
       " 'min_samples_split': 10,\n",
       " 'n_estimators': 250}"
      ]
     },
     "execution_count": 347,
     "metadata": {},
     "output_type": "execute_result"
    }
   ],
   "source": [
    "# Fit the grid search to the data\n",
    "grid_search.fit(X_train, y_train)\n",
    "grid_search.best_params_"
   ]
  },
  {
   "cell_type": "code",
   "execution_count": 348,
   "id": "d83460c8",
   "metadata": {},
   "outputs": [
    {
     "name": "stdout",
     "output_type": "stream",
     "text": [
      "0.9622213826973933\n"
     ]
    }
   ],
   "source": [
    "y_pred = grid_search.predict(X_test)\n",
    "print(grid_search.score(X_test, y_test))"
   ]
  },
  {
   "cell_type": "code",
   "execution_count": 349,
   "id": "a8d07dd1",
   "metadata": {},
   "outputs": [
    {
     "data": {
      "text/plain": [
       "0.9659980368566862"
      ]
     },
     "execution_count": 349,
     "metadata": {},
     "output_type": "execute_result"
    }
   ],
   "source": [
    "grid_search.best_score_"
   ]
  },
  {
   "cell_type": "code",
   "execution_count": 350,
   "id": "5b65ab68",
   "metadata": {},
   "outputs": [
    {
     "data": {
      "text/plain": [
       "{'max_depth': 10,\n",
       " 'min_samples_leaf': 3,\n",
       " 'min_samples_split': 10,\n",
       " 'n_estimators': 250}"
      ]
     },
     "execution_count": 350,
     "metadata": {},
     "output_type": "execute_result"
    }
   ],
   "source": [
    "grid_search.best_params_ "
   ]
  },
  {
   "cell_type": "code",
   "execution_count": 351,
   "id": "da75d1b4",
   "metadata": {},
   "outputs": [
    {
     "name": "stdout",
     "output_type": "stream",
     "text": [
      "Accuracy on training set = 0.9784650259067358\n",
      "Accuracy on test set = 0.9603324518322629\n"
     ]
    }
   ],
   "source": [
    "#final model with parameters found through gridsearch\n",
    "RF = RandomForestClassifier(n_estimators= 100, max_depth= 10, min_samples_split=5, min_samples_leaf=1,random_state=0)\n",
    "RF.fit(X_train, y_train)\n",
    "y_pred = RF.predict(X_test)\n",
    "print('Accuracy on training set = {}'.format(RF.score(X_train, y_train)))\n",
    "print('Accuracy on test set = {}'.format(RF.score(X_test, y_test)))"
   ]
  },
  {
   "cell_type": "code",
   "execution_count": 352,
   "id": "9b6cb714",
   "metadata": {},
   "outputs": [
    {
     "name": "stdout",
     "output_type": "stream",
     "text": [
      "              precision    recall  f1-score   support\n",
      "\n",
      "       False       0.97      0.98      0.98      2136\n",
      "        True       0.92      0.87      0.89       511\n",
      "\n",
      "    accuracy                           0.96      2647\n",
      "   macro avg       0.95      0.93      0.93      2647\n",
      "weighted avg       0.96      0.96      0.96      2647\n",
      "\n"
     ]
    }
   ],
   "source": [
    "print(classification_report(y_test, y_pred))"
   ]
  },
  {
   "cell_type": "code",
   "execution_count": 353,
   "id": "20441066",
   "metadata": {},
   "outputs": [
    {
     "data": {
      "text/html": [
       "<div>\n",
       "<style scoped>\n",
       "    .dataframe tbody tr th:only-of-type {\n",
       "        vertical-align: middle;\n",
       "    }\n",
       "\n",
       "    .dataframe tbody tr th {\n",
       "        vertical-align: top;\n",
       "    }\n",
       "\n",
       "    .dataframe thead th {\n",
       "        text-align: right;\n",
       "    }\n",
       "</style>\n",
       "<table border=\"1\" class=\"dataframe\">\n",
       "  <thead>\n",
       "    <tr style=\"text-align: right;\">\n",
       "      <th></th>\n",
       "      <th>importance</th>\n",
       "    </tr>\n",
       "  </thead>\n",
       "  <tbody>\n",
       "    <tr>\n",
       "      <th>acount_history</th>\n",
       "      <td>0.926300</td>\n",
       "    </tr>\n",
       "    <tr>\n",
       "      <th>age_account</th>\n",
       "      <td>0.060319</td>\n",
       "    </tr>\n",
       "    <tr>\n",
       "      <th>opted_in_to_mailing_list</th>\n",
       "      <td>0.002674</td>\n",
       "    </tr>\n",
       "    <tr>\n",
       "      <th>enabled_for_marketing_drip</th>\n",
       "      <td>0.002429</td>\n",
       "    </tr>\n",
       "    <tr>\n",
       "      <th>SIGNUP</th>\n",
       "      <td>0.002254</td>\n",
       "    </tr>\n",
       "    <tr>\n",
       "      <th>ORG_INVITE</th>\n",
       "      <td>0.002212</td>\n",
       "    </tr>\n",
       "    <tr>\n",
       "      <th>SIGNUP_GOOGLE_AUTH</th>\n",
       "      <td>0.002125</td>\n",
       "    </tr>\n",
       "    <tr>\n",
       "      <th>PERSONAL_PROJECTS</th>\n",
       "      <td>0.001687</td>\n",
       "    </tr>\n",
       "  </tbody>\n",
       "</table>\n",
       "</div>"
      ],
      "text/plain": [
       "                            importance\n",
       "acount_history                0.926300\n",
       "age_account                   0.060319\n",
       "opted_in_to_mailing_list      0.002674\n",
       "enabled_for_marketing_drip    0.002429\n",
       "SIGNUP                        0.002254\n",
       "ORG_INVITE                    0.002212\n",
       "SIGNUP_GOOGLE_AUTH            0.002125\n",
       "PERSONAL_PROJECTS             0.001687"
      ]
     },
     "execution_count": 353,
     "metadata": {},
     "output_type": "execute_result"
    }
   ],
   "source": [
    "#  The importance of features \n",
    "ultimate_features = pd.DataFrame({'importance': RF.feature_importances_}, index=X.columns[:])\n",
    "ultimate_features.sort_values('importance', ascending=False)"
   ]
  },
  {
   "cell_type": "markdown",
   "id": "c880476f",
   "metadata": {},
   "source": [
    "Random forest has very good results in prediction of adopted users (precision of 92% and recall of 87%).\n",
    "The most important features for predicting the adopted users are age account, account hisotry, whether they have opted into receiving marketing emails, and accept to recieve the marketing email.I recomend to encourgae people who already have account to login more in the software as it has the highest effect on adopting the user (92%) . We can not do anything about the time the user created their account(age account).Also it will be effective to conviece people to be opted to recieve the marketing email and be in the regular marketing list. Among different sources for creating their account, the SIGNUP and inivtation by organization have more effect on the adopted user.   Thefore it will be effective to advertise their softwar through organization or on media and people become motivated to create their account. "
   ]
  },
  {
   "cell_type": "code",
   "execution_count": null,
   "id": "fda4ab83",
   "metadata": {},
   "outputs": [],
   "source": []
  }
 ],
 "metadata": {
  "kernelspec": {
   "display_name": "Python 3 (ipykernel)",
   "language": "python",
   "name": "python3"
  },
  "language_info": {
   "codemirror_mode": {
    "name": "ipython",
    "version": 3
   },
   "file_extension": ".py",
   "mimetype": "text/x-python",
   "name": "python",
   "nbconvert_exporter": "python",
   "pygments_lexer": "ipython3",
   "version": "3.9.12"
  }
 },
 "nbformat": 4,
 "nbformat_minor": 5
}
