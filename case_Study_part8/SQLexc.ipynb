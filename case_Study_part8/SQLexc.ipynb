{
 "cells": [
  {
   "cell_type": "code",
   "execution_count": 13,
   "id": "61559cd1",
   "metadata": {},
   "outputs": [],
   "source": [
    "import sqlite3\n",
    "from sqlite3 import Error"
   ]
  },
  {
   "cell_type": "code",
   "execution_count": 14,
   "id": "62fe5591",
   "metadata": {},
   "outputs": [],
   "source": [
    "conn = sqlite3.connect(\"sqlite_db_pythonsqlite.db\")"
   ]
  },
  {
   "cell_type": "code",
   "execution_count": 15,
   "id": "590c86fb",
   "metadata": {},
   "outputs": [],
   "source": [
    "cur = conn.cursor()"
   ]
  },
  {
   "cell_type": "code",
   "execution_count": 16,
   "id": "d2293117",
   "metadata": {},
   "outputs": [
    {
     "ename": "OperationalError",
     "evalue": "no such table: FACILITIES",
     "output_type": "error",
     "traceback": [
      "\u001b[0;31m---------------------------------------------------------------------------\u001b[0m",
      "\u001b[0;31mOperationalError\u001b[0m                          Traceback (most recent call last)",
      "\u001b[0;32m<ipython-input-16-27438dbcf61d>\u001b[0m in \u001b[0;36m<module>\u001b[0;34m\u001b[0m\n\u001b[0;32m----> 1\u001b[0;31m cur.execute(\"\"\"\n\u001b[0m\u001b[1;32m      2\u001b[0m         \u001b[0mSELECT\u001b[0m \u001b[0;34m*\u001b[0m\u001b[0;34m\u001b[0m\u001b[0;34m\u001b[0m\u001b[0m\n\u001b[1;32m      3\u001b[0m         \u001b[0mFROM\u001b[0m \u001b[0mFACILITIES\u001b[0m\u001b[0;34m\u001b[0m\u001b[0;34m\u001b[0m\u001b[0m\n\u001b[1;32m      4\u001b[0m         \"\"\")\n",
      "\u001b[0;31mOperationalError\u001b[0m: no such table: FACILITIES"
     ]
    }
   ],
   "source": [
    "cur.execute(\"\"\"\n",
    "        SELECT *\n",
    "        FROM FACILITIES\n",
    "        \"\"\")"
   ]
  },
  {
   "cell_type": "code",
   "execution_count": 17,
   "id": "b274dc41",
   "metadata": {},
   "outputs": [],
   "source": [
    "rows = cur.fetchall()"
   ]
  },
  {
   "cell_type": "code",
   "execution_count": 18,
   "id": "049eb483",
   "metadata": {},
   "outputs": [],
   "source": [
    "for row in rows:\n",
    "        print(row)"
   ]
  },
  {
   "cell_type": "markdown",
   "id": "9e05e357",
   "metadata": {},
   "source": [
    "Q10: Produce a list of facilities with a total revenue less than 1000.\n",
    "The output of facility name and total revenue, sorted by revenue. Remember\n",
    "that there's a different cost for guests and members"
   ]
  },
  {
   "cell_type": "code",
   "execution_count": 8,
   "id": "d364612b",
   "metadata": {},
   "outputs": [
    {
     "ename": "OperationalError",
     "evalue": "no such table: Bookings",
     "output_type": "error",
     "traceback": [
      "\u001b[0;31m---------------------------------------------------------------------------\u001b[0m",
      "\u001b[0;31mOperationalError\u001b[0m                          Traceback (most recent call last)",
      "\u001b[0;32m<ipython-input-8-328f08b05f5e>\u001b[0m in \u001b[0;36m<module>\u001b[0;34m\u001b[0m\n\u001b[0;32m----> 1\u001b[0;31m cur.execute(\"\"\"\n\u001b[0m\u001b[1;32m      2\u001b[0m         \u001b[0mSelect\u001b[0m \u001b[0mRevenue\u001b[0m\u001b[0;34m,\u001b[0m\u001b[0mFacility_name\u001b[0m\u001b[0;34m\u001b[0m\u001b[0;34m\u001b[0m\u001b[0m\n\u001b[1;32m      3\u001b[0m FROM (\n\u001b[1;32m      4\u001b[0m     \u001b[0mSELECT\u001b[0m \u001b[0mround\u001b[0m\u001b[0;34m(\u001b[0m\u001b[0msum\u001b[0m\u001b[0;34m(\u001b[0m\u001b[0;34m(\u001b[0m\u001b[0mguestcost\u001b[0m\u001b[0;34m+\u001b[0m\u001b[0mmembercost\u001b[0m\u001b[0;34m)\u001b[0m\u001b[0;34m*\u001b[0m\u001b[0mBookings\u001b[0m\u001b[0;34m.\u001b[0m\u001b[0mslots\u001b[0m\u001b[0;34m)\u001b[0m\u001b[0;34m,\u001b[0m\u001b[0;36m2\u001b[0m\u001b[0;34m)\u001b[0m \u001b[0;32mas\u001b[0m \u001b[0mRevenue\u001b[0m\u001b[0;34m,\u001b[0m \u001b[0mFacilities\u001b[0m\u001b[0;34m.\u001b[0m\u001b[0mname\u001b[0m \u001b[0;32mas\u001b[0m \u001b[0mFacility_name\u001b[0m\u001b[0;34m\u001b[0m\u001b[0;34m\u001b[0m\u001b[0m\n\u001b[1;32m      5\u001b[0m     \u001b[0;32mfrom\u001b[0m \u001b[0mBookings\u001b[0m\u001b[0;34m\u001b[0m\u001b[0;34m\u001b[0m\u001b[0m\n",
      "\u001b[0;31mOperationalError\u001b[0m: no such table: Bookings"
     ]
    }
   ],
   "source": [
    "cur.execute(\"\"\"\n",
    "        Select Revenue,Facility_name\n",
    "FROM (\n",
    "    SELECT round(sum((guestcost+membercost)*Bookings.slots),2) as Revenue, Facilities.name as Facility_name\n",
    "    from Bookings \n",
    "    LEFT JOIN Facilities\n",
    "    using(facid)\n",
    "    group by Facilities.name) as subquery \n",
    "    \n",
    "order by Revenue\n",
    "        \"\"\")"
   ]
  },
  {
   "cell_type": "code",
   "execution_count": 100,
   "id": "3b44e91e",
   "metadata": {},
   "outputs": [],
   "source": [
    "questio10 = cur.fetchall()"
   ]
  },
  {
   "cell_type": "code",
   "execution_count": 101,
   "id": "7b4a1c92",
   "metadata": {},
   "outputs": [
    {
     "name": "stdout",
     "output_type": "stream",
     "text": [
      "(4150.0, 'Table Tennis')\n",
      "(4540.0, 'Snooker Table')\n",
      "(4550.0, 'Pool Table')\n",
      "(18739.5, 'Badminton Court')\n",
      "(20497.2, 'Massage Room 2')\n",
      "(23184.0, 'Squash Court')\n",
      "(38340.0, 'Tennis Court 2')\n",
      "(39600.0, 'Tennis Court 1')\n",
      "(126219.6, 'Massage Room 1')\n"
     ]
    }
   ],
   "source": [
    "for row in questio10:\n",
    "        print(row)"
   ]
  },
  {
   "cell_type": "markdown",
   "id": "098323a2",
   "metadata": {},
   "source": [
    "Q11: Produce a report of members and who recommended them in alphabetic surname,firstname order\n"
   ]
  },
  {
   "cell_type": "code",
   "execution_count": 121,
   "id": "0fc887e4",
   "metadata": {},
   "outputs": [
    {
     "data": {
      "text/plain": [
       "<sqlite3.Cursor at 0x7f8abc5636c0>"
      ]
     },
     "execution_count": 121,
     "metadata": {},
     "output_type": "execute_result"
    }
   ],
   "source": [
    "cur.execute(\"\"\"\n",
    "SELECT \n",
    "  \n",
    "  ( m2.firstname ||  \" \" || m2.surname) as Member,\n",
    "  ( m1.firstname || \" \" ||m1.surname) as Recommended_By\n",
    "FROM \n",
    "  Members m1\n",
    "inner join \n",
    "  Members as m2  on m2.recommendedby = m1.memid \n",
    "order by Member,Recommended_By ASC\n",
    " \"\"\")"
   ]
  },
  {
   "cell_type": "code",
   "execution_count": 122,
   "id": "685dfd7d",
   "metadata": {},
   "outputs": [],
   "source": [
    "questio11 = cur.fetchall()"
   ]
  },
  {
   "cell_type": "code",
   "execution_count": 123,
   "id": "cc5c632b",
   "metadata": {},
   "outputs": [
    {
     "name": "stdout",
     "output_type": "stream",
     "text": [
      "('Anna Mackenzie', 'Darren Smith')\n",
      "('Anne Baker', 'Ponder Stibbons')\n",
      "('Charles Owen', 'Darren Smith')\n",
      "('David Jones', 'Janice Joplette')\n",
      "('David Pinker', 'Jemima Farrell')\n",
      "('Douglas Jones', 'David Jones')\n",
      "('Erica Crumpet', 'Tracy Smith')\n",
      "('Florence Bader', 'Ponder Stibbons')\n",
      "('Gerald Butters', 'Darren Smith')\n",
      "('Henrietta Rumney', 'Matthew Genting')\n",
      "('Henry Worthington-Smyth', 'Tracy Smith')\n",
      "('Jack Smith', 'Darren Smith')\n",
      "('Janice Joplette', 'Darren Smith')\n",
      "('Joan Coplin', 'Timothy Baker')\n",
      "('John Hunt', 'Millicent Purview')\n",
      "('Matthew Genting', 'Gerald Butters')\n",
      "('Millicent Purview', 'Tracy Smith')\n",
      "('Nancy Dare', 'Janice Joplette')\n",
      "('Ponder Stibbons', 'Burton Tracy')\n",
      "('Ramnaresh Sarwin', 'Florence Bader')\n",
      "('Tim Boothe', 'Tim Rownam')\n",
      "('Timothy Baker', 'Jemima Farrell')\n"
     ]
    }
   ],
   "source": [
    "for row in questio11:\n",
    "        print(row)"
   ]
  },
  {
   "cell_type": "markdown",
   "id": "7749889a",
   "metadata": {},
   "source": [
    "Find the facilities with their usage by member, but not guests\n",
    "Calculate the number of slots used by members for each facilities "
   ]
  },
  {
   "cell_type": "code",
   "execution_count": 1,
   "id": "f00dcc3a",
   "metadata": {},
   "outputs": [
    {
     "ename": "NameError",
     "evalue": "name 'cur' is not defined",
     "output_type": "error",
     "traceback": [
      "\u001b[0;31m---------------------------------------------------------------------------\u001b[0m",
      "\u001b[0;31mNameError\u001b[0m                                 Traceback (most recent call last)",
      "\u001b[0;32m<ipython-input-1-344e411481d0>\u001b[0m in \u001b[0;36m<module>\u001b[0;34m\u001b[0m\n\u001b[0;32m----> 1\u001b[0;31m cur.execute(\"\"\"\n\u001b[0m\u001b[1;32m      2\u001b[0m \u001b[0mSELECT\u001b[0m \u001b[0msum\u001b[0m\u001b[0;34m(\u001b[0m\u001b[0mslots\u001b[0m\u001b[0;34m)\u001b[0m\u001b[0;34m,\u001b[0m\u001b[0mFacilities\u001b[0m\u001b[0;34m.\u001b[0m\u001b[0mname\u001b[0m\u001b[0;34m\u001b[0m\u001b[0;34m\u001b[0m\u001b[0m\n\u001b[1;32m      3\u001b[0m \u001b[0mFROM\u001b[0m \u001b[0mBookings\u001b[0m\u001b[0;34m\u001b[0m\u001b[0;34m\u001b[0m\u001b[0m\n\u001b[1;32m      4\u001b[0m \u001b[0minner\u001b[0m \u001b[0mjoin\u001b[0m \u001b[0mFacilities\u001b[0m \u001b[0mon\u001b[0m \u001b[0mFacilities\u001b[0m\u001b[0;34m.\u001b[0m\u001b[0mfacid\u001b[0m \u001b[0;34m=\u001b[0m \u001b[0mBookings\u001b[0m\u001b[0;34m.\u001b[0m\u001b[0mfacid\u001b[0m\u001b[0;34m\u001b[0m\u001b[0;34m\u001b[0m\u001b[0m\n\u001b[1;32m      5\u001b[0m \u001b[0mgroup\u001b[0m \u001b[0mby\u001b[0m \u001b[0mFacilities\u001b[0m\u001b[0;34m.\u001b[0m\u001b[0mname\u001b[0m\u001b[0;34m\u001b[0m\u001b[0;34m\u001b[0m\u001b[0m\n",
      "\u001b[0;31mNameError\u001b[0m: name 'cur' is not defined"
     ]
    }
   ],
   "source": [
    "cur.execute(\"\"\"\n",
    "SELECT sum(slots),Facilities.name\n",
    "FROM Bookings\n",
    "inner join Facilities on Facilities.facid = Bookings.facid\n",
    "group by Facilities.name\n",
    "Having (memid <> 0)\n",
    " \"\"\")"
   ]
  },
  {
   "cell_type": "code",
   "execution_count": 158,
   "id": "8fdf8cd2",
   "metadata": {},
   "outputs": [],
   "source": [
    "questio12 = cur.fetchall()"
   ]
  },
  {
   "cell_type": "code",
   "execution_count": 159,
   "id": "1be8bbb9",
   "metadata": {},
   "outputs": [
    {
     "name": "stdout",
     "output_type": "stream",
     "text": [
      "(1320, 'Tennis Court 1')\n",
      "(1209, 'Badminton Court')\n",
      "(830, 'Table Tennis')\n",
      "(1404, 'Massage Room 1')\n",
      "(908, 'Snooker Table')\n",
      "(910, 'Pool Table')\n"
     ]
    }
   ],
   "source": [
    "for row in questio12:\n",
    "        print(row)"
   ]
  },
  {
   "cell_type": "markdown",
   "id": "c7f6bd7f",
   "metadata": {},
   "source": [
    "Find the facilities usage by month, but not guests"
   ]
  },
  {
   "cell_type": "code",
   "execution_count": 182,
   "id": "022353e4",
   "metadata": {},
   "outputs": [
    {
     "data": {
      "text/plain": [
       "<sqlite3.Cursor at 0x7f8abc5636c0>"
      ]
     },
     "execution_count": 182,
     "metadata": {},
     "output_type": "execute_result"
    }
   ],
   "source": [
    "cur.execute(\"\"\"\n",
    "SELECT Facilities.name as facility_name,sum(slots) as usage,strftime('%Y %m',date(Bookings.starttime)) as month\n",
    "FROM Bookings\n",
    "inner join Facilities on Facilities.facid = Bookings.facid\n",
    "group by Bookings.facid,month\n",
    "Having (memid <> 0)\n",
    " \"\"\")"
   ]
  },
  {
   "cell_type": "code",
   "execution_count": 183,
   "id": "f50d9496",
   "metadata": {},
   "outputs": [],
   "source": [
    "questio13 = cur.fetchall()"
   ]
  },
  {
   "cell_type": "code",
   "execution_count": 184,
   "id": "521181d6",
   "metadata": {},
   "outputs": [
    {
     "name": "stdout",
     "output_type": "stream",
     "text": [
      "('Tennis Court 1', 270, '2012 07')\n",
      "('Tennis Court 1', 459, '2012 08')\n",
      "('Tennis Court 2', 483, '2012 08')\n",
      "('Badminton Court', 180, '2012 07')\n",
      "('Badminton Court', 459, '2012 08')\n",
      "('Badminton Court', 570, '2012 09')\n",
      "('Table Tennis', 104, '2012 07')\n",
      "('Table Tennis', 304, '2012 08')\n",
      "('Table Tennis', 422, '2012 09')\n",
      "('Massage Room 1', 264, '2012 07')\n",
      "('Massage Room 1', 492, '2012 08')\n",
      "('Massage Room 1', 648, '2012 09')\n",
      "('Massage Room 2', 82, '2012 08')\n",
      "('Snooker Table', 156, '2012 07')\n",
      "('Snooker Table', 326, '2012 08')\n",
      "('Snooker Table', 426, '2012 09')\n",
      "('Pool Table', 117, '2012 07')\n",
      "('Pool Table', 322, '2012 08')\n",
      "('Pool Table', 471, '2012 09')\n"
     ]
    }
   ],
   "source": [
    "for row in questio13:\n",
    "        print(row)"
   ]
  },
  {
   "cell_type": "code",
   "execution_count": null,
   "id": "45b1c47f",
   "metadata": {},
   "outputs": [],
   "source": []
  }
 ],
 "metadata": {
  "kernelspec": {
   "display_name": "Python 3",
   "language": "python",
   "name": "python3"
  },
  "language_info": {
   "codemirror_mode": {
    "name": "ipython",
    "version": 3
   },
   "file_extension": ".py",
   "mimetype": "text/x-python",
   "name": "python",
   "nbconvert_exporter": "python",
   "pygments_lexer": "ipython3",
   "version": "3.8.8"
  }
 },
 "nbformat": 4,
 "nbformat_minor": 5
}
