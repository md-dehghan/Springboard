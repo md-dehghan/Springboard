{
 "cells": [
  {
   "cell_type": "code",
   "execution_count": 1,
   "id": "61559cd1",
   "metadata": {},
   "outputs": [],
   "source": [
    "import sqlite3\n",
    "from sqlite3 import Error"
   ]
  },
  {
   "cell_type": "code",
   "execution_count": 2,
   "id": "62fe5591",
   "metadata": {},
   "outputs": [],
   "source": [
    "conn = sqlite3.connect(\"sqlite_db_pythonsqlite.db\")"
   ]
  },
  {
   "cell_type": "code",
   "execution_count": 3,
   "id": "590c86fb",
   "metadata": {},
   "outputs": [],
   "source": [
    "cur = conn.cursor()"
   ]
  },
  {
   "cell_type": "code",
   "execution_count": 4,
   "id": "d2293117",
   "metadata": {},
   "outputs": [
    {
     "data": {
      "text/plain": [
       "<sqlite3.Cursor at 0x7fbe72372e30>"
      ]
     },
     "execution_count": 4,
     "metadata": {},
     "output_type": "execute_result"
    }
   ],
   "source": [
    "cur.execute(\"\"\"\n",
    "        SELECT *\n",
    "        FROM FACILITIES\n",
    "        \"\"\")"
   ]
  },
  {
   "cell_type": "code",
   "execution_count": 5,
   "id": "b274dc41",
   "metadata": {},
   "outputs": [],
   "source": [
    "rows = cur.fetchall()"
   ]
  },
  {
   "cell_type": "code",
   "execution_count": 6,
   "id": "049eb483",
   "metadata": {},
   "outputs": [
    {
     "name": "stdout",
     "output_type": "stream",
     "text": [
      "(0, 'Tennis Court 1', 5, 25, 10000, 200)\n",
      "(1, 'Tennis Court 2', 5, 25, 8000, 200)\n",
      "(2, 'Badminton Court', 0, 15.5, 4000, 50)\n",
      "(3, 'Table Tennis', 0, 5, 320, 10)\n",
      "(4, 'Massage Room 1', 9.9, 80, 4000, 3000)\n",
      "(5, 'Massage Room 2', 9.9, 80, 4000, 3000)\n",
      "(6, 'Squash Court', 3.5, 17.5, 5000, 80)\n",
      "(7, 'Snooker Table', 0, 5, 450, 15)\n",
      "(8, 'Pool Table', 0, 5, 400, 15)\n"
     ]
    }
   ],
   "source": [
    "for row in rows:\n",
    "        print(row)"
   ]
  },
  {
   "cell_type": "markdown",
   "id": "9e05e357",
   "metadata": {},
   "source": [
    "Q10: Produce a list of facilities with a total revenue less than 1000.\n",
    "The output of facility name and total revenue, sorted by revenue. Remember\n",
    "that there's a different cost for guests and members"
   ]
  },
  {
   "cell_type": "code",
   "execution_count": 10,
   "id": "d364612b",
   "metadata": {},
   "outputs": [
    {
     "data": {
      "text/plain": [
       "<sqlite3.Cursor at 0x7fbe72372e30>"
      ]
     },
     "execution_count": 10,
     "metadata": {},
     "output_type": "execute_result"
    }
   ],
   "source": [
    "cur.execute(\"\"\"\n",
    "        SELECT  sum(Rev) AS Revenue_tot\n",
    "    FROM (\n",
    "\n",
    "SELECT \n",
    "\tFacility_name, \n",
    "\tCASE WHEN memid<> 0  THEN membercost*slots ELSE guestcost*slots END AS Rev\n",
    "\n",
    "FROM (\n",
    "SELECT\n",
    "    Facilities.name AS Facility_name, guestcost, membercost,memid, slots\n",
    "    FROM Bookings \n",
    "    LEFT JOIN Facilities\n",
    "    USING(facid)) AS subquery \n",
    "\n",
    ") AS subquery2\n",
    "\n",
    "GROUP BY Facility_name\n",
    "HAVING (Revenue_tot<1000)\n",
    "ORDER by Revenue_tot\n",
    "        \"\"\")"
   ]
  },
  {
   "cell_type": "code",
   "execution_count": 11,
   "id": "3b44e91e",
   "metadata": {},
   "outputs": [],
   "source": [
    "questio10 = cur.fetchall()"
   ]
  },
  {
   "cell_type": "code",
   "execution_count": 12,
   "id": "7b4a1c92",
   "metadata": {},
   "outputs": [
    {
     "name": "stdout",
     "output_type": "stream",
     "text": [
      "(180,)\n",
      "(240,)\n",
      "(270,)\n"
     ]
    }
   ],
   "source": [
    "for row in questio10:\n",
    "        print(row)"
   ]
  },
  {
   "cell_type": "markdown",
   "id": "098323a2",
   "metadata": {},
   "source": [
    "Q11: Produce a report of members and who recommended them in alphabetic surname,firstname order\n"
   ]
  },
  {
   "cell_type": "code",
   "execution_count": 121,
   "id": "0fc887e4",
   "metadata": {},
   "outputs": [
    {
     "data": {
      "text/plain": [
       "<sqlite3.Cursor at 0x7f8abc5636c0>"
      ]
     },
     "execution_count": 121,
     "metadata": {},
     "output_type": "execute_result"
    }
   ],
   "source": [
    "cur.execute(\"\"\"\n",
    "SELECT \n",
    "  \n",
    "  ( m2.firstname ||  \" \" || m2.surname) as Member,\n",
    "  ( m1.firstname || \" \" ||m1.surname) as Recommended_By\n",
    "FROM \n",
    "  Members m1\n",
    "inner join \n",
    "  Members as m2  on m2.recommendedby = m1.memid \n",
    "order by Member,Recommended_By ASC\n",
    " \"\"\")"
   ]
  },
  {
   "cell_type": "code",
   "execution_count": 122,
   "id": "685dfd7d",
   "metadata": {},
   "outputs": [],
   "source": [
    "questio11 = cur.fetchall()"
   ]
  },
  {
   "cell_type": "code",
   "execution_count": 123,
   "id": "cc5c632b",
   "metadata": {},
   "outputs": [
    {
     "name": "stdout",
     "output_type": "stream",
     "text": [
      "('Anna Mackenzie', 'Darren Smith')\n",
      "('Anne Baker', 'Ponder Stibbons')\n",
      "('Charles Owen', 'Darren Smith')\n",
      "('David Jones', 'Janice Joplette')\n",
      "('David Pinker', 'Jemima Farrell')\n",
      "('Douglas Jones', 'David Jones')\n",
      "('Erica Crumpet', 'Tracy Smith')\n",
      "('Florence Bader', 'Ponder Stibbons')\n",
      "('Gerald Butters', 'Darren Smith')\n",
      "('Henrietta Rumney', 'Matthew Genting')\n",
      "('Henry Worthington-Smyth', 'Tracy Smith')\n",
      "('Jack Smith', 'Darren Smith')\n",
      "('Janice Joplette', 'Darren Smith')\n",
      "('Joan Coplin', 'Timothy Baker')\n",
      "('John Hunt', 'Millicent Purview')\n",
      "('Matthew Genting', 'Gerald Butters')\n",
      "('Millicent Purview', 'Tracy Smith')\n",
      "('Nancy Dare', 'Janice Joplette')\n",
      "('Ponder Stibbons', 'Burton Tracy')\n",
      "('Ramnaresh Sarwin', 'Florence Bader')\n",
      "('Tim Boothe', 'Tim Rownam')\n",
      "('Timothy Baker', 'Jemima Farrell')\n"
     ]
    }
   ],
   "source": [
    "for row in questio11:\n",
    "        print(row)"
   ]
  },
  {
   "cell_type": "markdown",
   "id": "7749889a",
   "metadata": {},
   "source": [
    "Find the facilities with their usage by member, but not guests\n",
    "Calculate the number of slots used by members for each facilities "
   ]
  },
  {
   "cell_type": "code",
   "execution_count": 157,
   "id": "f00dcc3a",
   "metadata": {},
   "outputs": [
    {
     "data": {
      "text/plain": [
       "<sqlite3.Cursor at 0x7f8abc5636c0>"
      ]
     },
     "execution_count": 157,
     "metadata": {},
     "output_type": "execute_result"
    }
   ],
   "source": [
    "cur.execute(\"\"\"\n",
    "SELECT sum(slots),Facilities.name\n",
    "FROM Bookings\n",
    "inner join Facilities on Facilities.facid = Bookings.facid\n",
    "group by Bookings.facid\n",
    "Having (memid <> 0)\n",
    " \"\"\")"
   ]
  },
  {
   "cell_type": "code",
   "execution_count": 158,
   "id": "8fdf8cd2",
   "metadata": {},
   "outputs": [],
   "source": [
    "questio12 = cur.fetchall()"
   ]
  },
  {
   "cell_type": "code",
   "execution_count": 159,
   "id": "1be8bbb9",
   "metadata": {},
   "outputs": [
    {
     "name": "stdout",
     "output_type": "stream",
     "text": [
      "(1320, 'Tennis Court 1')\n",
      "(1209, 'Badminton Court')\n",
      "(830, 'Table Tennis')\n",
      "(1404, 'Massage Room 1')\n",
      "(908, 'Snooker Table')\n",
      "(910, 'Pool Table')\n"
     ]
    }
   ],
   "source": [
    "for row in questio12:\n",
    "        print(row)"
   ]
  },
  {
   "cell_type": "markdown",
   "id": "c7f6bd7f",
   "metadata": {},
   "source": [
    "Find the facilities usage by month, but not guests"
   ]
  },
  {
   "cell_type": "code",
   "execution_count": 182,
   "id": "022353e4",
   "metadata": {},
   "outputs": [
    {
     "data": {
      "text/plain": [
       "<sqlite3.Cursor at 0x7f8abc5636c0>"
      ]
     },
     "execution_count": 182,
     "metadata": {},
     "output_type": "execute_result"
    }
   ],
   "source": [
    "cur.execute(\"\"\"\n",
    "SELECT Facilities.name as facility_name,sum(slots) as usage,strftime('%Y %m',date(Bookings.starttime)) as month\n",
    "FROM Bookings\n",
    "inner join Facilities on Facilities.facid = Bookings.facid\n",
    "group by Bookings.facid,month\n",
    "Having (memid <> 0)\n",
    " \"\"\")"
   ]
  },
  {
   "cell_type": "code",
   "execution_count": 183,
   "id": "f50d9496",
   "metadata": {},
   "outputs": [],
   "source": [
    "questio13 = cur.fetchall()"
   ]
  },
  {
   "cell_type": "code",
   "execution_count": 184,
   "id": "521181d6",
   "metadata": {},
   "outputs": [
    {
     "name": "stdout",
     "output_type": "stream",
     "text": [
      "('Tennis Court 1', 270, '2012 07')\n",
      "('Tennis Court 1', 459, '2012 08')\n",
      "('Tennis Court 2', 483, '2012 08')\n",
      "('Badminton Court', 180, '2012 07')\n",
      "('Badminton Court', 459, '2012 08')\n",
      "('Badminton Court', 570, '2012 09')\n",
      "('Table Tennis', 104, '2012 07')\n",
      "('Table Tennis', 304, '2012 08')\n",
      "('Table Tennis', 422, '2012 09')\n",
      "('Massage Room 1', 264, '2012 07')\n",
      "('Massage Room 1', 492, '2012 08')\n",
      "('Massage Room 1', 648, '2012 09')\n",
      "('Massage Room 2', 82, '2012 08')\n",
      "('Snooker Table', 156, '2012 07')\n",
      "('Snooker Table', 326, '2012 08')\n",
      "('Snooker Table', 426, '2012 09')\n",
      "('Pool Table', 117, '2012 07')\n",
      "('Pool Table', 322, '2012 08')\n",
      "('Pool Table', 471, '2012 09')\n"
     ]
    }
   ],
   "source": [
    "for row in questio13:\n",
    "        print(row)"
   ]
  },
  {
   "cell_type": "code",
   "execution_count": null,
   "id": "45b1c47f",
   "metadata": {},
   "outputs": [],
   "source": []
  }
 ],
 "metadata": {
  "kernelspec": {
   "display_name": "Python 3",
   "language": "python",
   "name": "python3"
  },
  "language_info": {
   "codemirror_mode": {
    "name": "ipython",
    "version": 3
   },
   "file_extension": ".py",
   "mimetype": "text/x-python",
   "name": "python",
   "nbconvert_exporter": "python",
   "pygments_lexer": "ipython3",
   "version": "3.8.8"
  }
 },
 "nbformat": 4,
 "nbformat_minor": 5
}
