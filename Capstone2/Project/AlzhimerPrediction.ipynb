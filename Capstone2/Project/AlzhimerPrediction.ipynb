{
 "cells": [
  {
   "cell_type": "markdown",
   "id": "579657fb",
   "metadata": {},
   "source": [
    "## Can Alzheimer be predicted?"
   ]
  },
  {
   "cell_type": "markdown",
   "id": "ee523631",
   "metadata": {},
   "source": [
    "### 1. Sourcing and Loading \n"
   ]
  },
  {
   "cell_type": "markdown",
   "id": "226dcc81",
   "metadata": {},
   "source": [
    "#### 1.1. Importing Libraries"
   ]
  },
  {
   "cell_type": "code",
   "execution_count": 71,
   "id": "4c22f3df",
   "metadata": {},
   "outputs": [],
   "source": [
    "# import the pandas, numpy libraries as pd, and np respectively. \n",
    "import pandas as pd\n",
    "import numpy as np\n",
    "\n",
    "# Load the pyplot collection of functions from matplotlib, as plt \n",
    "import matplotlib.pyplot as plt"
   ]
  },
  {
   "cell_type": "markdown",
   "id": "2becfbea",
   "metadata": {},
   "source": [
    "#### 1.2.  Loading the data\n",
    "This MRI data sets has been taken from Open Access Series of Imaging Studies (OASIS)\n",
    "which is a project aimed at making MRI data sets of the brain freely available to the\n",
    "scientific community. OASIS is made available by the Washington University Alzheimer’s\n",
    "Disease Research Center, Dr. Randy Buckner at the Howard Hughes Medical Institute (HHMI)\n",
    "(at Harvard University, the Neuroinformatics Research Group (NRG) at Washington University\n",
    "School of Medicine,and the Biomedical Informatics Research Network (BIRN)."
   ]
  },
  {
   "cell_type": "code",
   "execution_count": 72,
   "id": "7018eec4",
   "metadata": {},
   "outputs": [],
   "source": [
    "# First, make a variable called Cross-sec, and assign it to cross-sectional \n",
    "# collection of 416 subjects\n",
    "Cross_sec = pd.read_csv('Data/oasis_cross-sectional.csv', index_col= None)\n",
    "# Second, make a second variable called Long-sec, and assign it to longitudinal\n",
    "#collection of 150 subjects\n",
    "Long_sec = pd.read_csv('Data/oasis_longitudinal.csv', index_col= None)"
   ]
  },
  {
   "cell_type": "markdown",
   "id": "30487db3",
   "metadata": {},
   "source": [
    "Staging patients diagnosed with dementia is determined by a global rating scale, called clinical dementia rating scale (**CDR** ). The CDR evaluates cognitive, behavioral, and functional aspects of Alzheimer disease and other dementias. Features used for applying machine learning from these two sets of data include age, education, gender, socioeconomic status (**SES**), Mini-Mental State Exam (**MMSE**) which is a test of cognitive function, **eTIV** - estimated Total Intracranial Volume (sum of brain, ventricular, and extraventricular CSF) and brain volumes (**nWBV**), and Atlas Scaling Factor (**ASF**) which is volume-scaling factor required to match each individual to the atlas target."
   ]
  },
  {
   "cell_type": "markdown",
   "id": "feb47a56",
   "metadata": {},
   "source": [
    "### 2. Cleaning, transforming, and visualizing"
   ]
  },
  {
   "cell_type": "markdown",
   "id": "b88941ee",
   "metadata": {},
   "source": [
    "**2.1. Exploring the data** \n"
   ]
  },
  {
   "cell_type": "code",
   "execution_count": 73,
   "id": "37adf376",
   "metadata": {},
   "outputs": [
    {
     "data": {
      "text/html": [
       "<div>\n",
       "<style scoped>\n",
       "    .dataframe tbody tr th:only-of-type {\n",
       "        vertical-align: middle;\n",
       "    }\n",
       "\n",
       "    .dataframe tbody tr th {\n",
       "        vertical-align: top;\n",
       "    }\n",
       "\n",
       "    .dataframe thead th {\n",
       "        text-align: right;\n",
       "    }\n",
       "</style>\n",
       "<table border=\"1\" class=\"dataframe\">\n",
       "  <thead>\n",
       "    <tr style=\"text-align: right;\">\n",
       "      <th></th>\n",
       "      <th>ID</th>\n",
       "      <th>M/F</th>\n",
       "      <th>Hand</th>\n",
       "      <th>Age</th>\n",
       "      <th>Educ</th>\n",
       "      <th>SES</th>\n",
       "      <th>MMSE</th>\n",
       "      <th>CDR</th>\n",
       "      <th>eTIV</th>\n",
       "      <th>nWBV</th>\n",
       "      <th>ASF</th>\n",
       "      <th>Delay</th>\n",
       "    </tr>\n",
       "  </thead>\n",
       "  <tbody>\n",
       "    <tr>\n",
       "      <th>0</th>\n",
       "      <td>OAS1_0001_MR1</td>\n",
       "      <td>F</td>\n",
       "      <td>R</td>\n",
       "      <td>74</td>\n",
       "      <td>2.0</td>\n",
       "      <td>3.0</td>\n",
       "      <td>29.0</td>\n",
       "      <td>0.0</td>\n",
       "      <td>1344</td>\n",
       "      <td>0.743</td>\n",
       "      <td>1.306</td>\n",
       "      <td>NaN</td>\n",
       "    </tr>\n",
       "    <tr>\n",
       "      <th>1</th>\n",
       "      <td>OAS1_0002_MR1</td>\n",
       "      <td>F</td>\n",
       "      <td>R</td>\n",
       "      <td>55</td>\n",
       "      <td>4.0</td>\n",
       "      <td>1.0</td>\n",
       "      <td>29.0</td>\n",
       "      <td>0.0</td>\n",
       "      <td>1147</td>\n",
       "      <td>0.810</td>\n",
       "      <td>1.531</td>\n",
       "      <td>NaN</td>\n",
       "    </tr>\n",
       "    <tr>\n",
       "      <th>2</th>\n",
       "      <td>OAS1_0003_MR1</td>\n",
       "      <td>F</td>\n",
       "      <td>R</td>\n",
       "      <td>73</td>\n",
       "      <td>4.0</td>\n",
       "      <td>3.0</td>\n",
       "      <td>27.0</td>\n",
       "      <td>0.5</td>\n",
       "      <td>1454</td>\n",
       "      <td>0.708</td>\n",
       "      <td>1.207</td>\n",
       "      <td>NaN</td>\n",
       "    </tr>\n",
       "    <tr>\n",
       "      <th>3</th>\n",
       "      <td>OAS1_0004_MR1</td>\n",
       "      <td>M</td>\n",
       "      <td>R</td>\n",
       "      <td>28</td>\n",
       "      <td>NaN</td>\n",
       "      <td>NaN</td>\n",
       "      <td>NaN</td>\n",
       "      <td>NaN</td>\n",
       "      <td>1588</td>\n",
       "      <td>0.803</td>\n",
       "      <td>1.105</td>\n",
       "      <td>NaN</td>\n",
       "    </tr>\n",
       "    <tr>\n",
       "      <th>4</th>\n",
       "      <td>OAS1_0005_MR1</td>\n",
       "      <td>M</td>\n",
       "      <td>R</td>\n",
       "      <td>18</td>\n",
       "      <td>NaN</td>\n",
       "      <td>NaN</td>\n",
       "      <td>NaN</td>\n",
       "      <td>NaN</td>\n",
       "      <td>1737</td>\n",
       "      <td>0.848</td>\n",
       "      <td>1.010</td>\n",
       "      <td>NaN</td>\n",
       "    </tr>\n",
       "  </tbody>\n",
       "</table>\n",
       "</div>"
      ],
      "text/plain": [
       "              ID M/F Hand  Age  Educ  SES  MMSE  CDR  eTIV   nWBV    ASF  \\\n",
       "0  OAS1_0001_MR1   F    R   74   2.0  3.0  29.0  0.0  1344  0.743  1.306   \n",
       "1  OAS1_0002_MR1   F    R   55   4.0  1.0  29.0  0.0  1147  0.810  1.531   \n",
       "2  OAS1_0003_MR1   F    R   73   4.0  3.0  27.0  0.5  1454  0.708  1.207   \n",
       "3  OAS1_0004_MR1   M    R   28   NaN  NaN   NaN  NaN  1588  0.803  1.105   \n",
       "4  OAS1_0005_MR1   M    R   18   NaN  NaN   NaN  NaN  1737  0.848  1.010   \n",
       "\n",
       "   Delay  \n",
       "0    NaN  \n",
       "1    NaN  \n",
       "2    NaN  \n",
       "3    NaN  \n",
       "4    NaN  "
      ]
     },
     "execution_count": 73,
     "metadata": {},
     "output_type": "execute_result"
    }
   ],
   "source": [
    "Cross_sec.head()"
   ]
  },
  {
   "cell_type": "code",
   "execution_count": 74,
   "id": "eda53359",
   "metadata": {},
   "outputs": [
    {
     "data": {
      "text/html": [
       "<div>\n",
       "<style scoped>\n",
       "    .dataframe tbody tr th:only-of-type {\n",
       "        vertical-align: middle;\n",
       "    }\n",
       "\n",
       "    .dataframe tbody tr th {\n",
       "        vertical-align: top;\n",
       "    }\n",
       "\n",
       "    .dataframe thead th {\n",
       "        text-align: right;\n",
       "    }\n",
       "</style>\n",
       "<table border=\"1\" class=\"dataframe\">\n",
       "  <thead>\n",
       "    <tr style=\"text-align: right;\">\n",
       "      <th></th>\n",
       "      <th>Subject ID</th>\n",
       "      <th>MRI ID</th>\n",
       "      <th>Group</th>\n",
       "      <th>Visit</th>\n",
       "      <th>MR Delay</th>\n",
       "      <th>M/F</th>\n",
       "      <th>Hand</th>\n",
       "      <th>Age</th>\n",
       "      <th>EDUC</th>\n",
       "      <th>SES</th>\n",
       "      <th>MMSE</th>\n",
       "      <th>CDR</th>\n",
       "      <th>eTIV</th>\n",
       "      <th>nWBV</th>\n",
       "      <th>ASF</th>\n",
       "    </tr>\n",
       "  </thead>\n",
       "  <tbody>\n",
       "    <tr>\n",
       "      <th>0</th>\n",
       "      <td>OAS2_0001</td>\n",
       "      <td>OAS2_0001_MR1</td>\n",
       "      <td>Nondemented</td>\n",
       "      <td>1</td>\n",
       "      <td>0</td>\n",
       "      <td>M</td>\n",
       "      <td>R</td>\n",
       "      <td>87</td>\n",
       "      <td>14</td>\n",
       "      <td>2.0</td>\n",
       "      <td>27.0</td>\n",
       "      <td>0.0</td>\n",
       "      <td>1987</td>\n",
       "      <td>0.696</td>\n",
       "      <td>0.883</td>\n",
       "    </tr>\n",
       "    <tr>\n",
       "      <th>1</th>\n",
       "      <td>OAS2_0001</td>\n",
       "      <td>OAS2_0001_MR2</td>\n",
       "      <td>Nondemented</td>\n",
       "      <td>2</td>\n",
       "      <td>457</td>\n",
       "      <td>M</td>\n",
       "      <td>R</td>\n",
       "      <td>88</td>\n",
       "      <td>14</td>\n",
       "      <td>2.0</td>\n",
       "      <td>30.0</td>\n",
       "      <td>0.0</td>\n",
       "      <td>2004</td>\n",
       "      <td>0.681</td>\n",
       "      <td>0.876</td>\n",
       "    </tr>\n",
       "    <tr>\n",
       "      <th>2</th>\n",
       "      <td>OAS2_0002</td>\n",
       "      <td>OAS2_0002_MR1</td>\n",
       "      <td>Demented</td>\n",
       "      <td>1</td>\n",
       "      <td>0</td>\n",
       "      <td>M</td>\n",
       "      <td>R</td>\n",
       "      <td>75</td>\n",
       "      <td>12</td>\n",
       "      <td>NaN</td>\n",
       "      <td>23.0</td>\n",
       "      <td>0.5</td>\n",
       "      <td>1678</td>\n",
       "      <td>0.736</td>\n",
       "      <td>1.046</td>\n",
       "    </tr>\n",
       "    <tr>\n",
       "      <th>3</th>\n",
       "      <td>OAS2_0002</td>\n",
       "      <td>OAS2_0002_MR2</td>\n",
       "      <td>Demented</td>\n",
       "      <td>2</td>\n",
       "      <td>560</td>\n",
       "      <td>M</td>\n",
       "      <td>R</td>\n",
       "      <td>76</td>\n",
       "      <td>12</td>\n",
       "      <td>NaN</td>\n",
       "      <td>28.0</td>\n",
       "      <td>0.5</td>\n",
       "      <td>1738</td>\n",
       "      <td>0.713</td>\n",
       "      <td>1.010</td>\n",
       "    </tr>\n",
       "    <tr>\n",
       "      <th>4</th>\n",
       "      <td>OAS2_0002</td>\n",
       "      <td>OAS2_0002_MR3</td>\n",
       "      <td>Demented</td>\n",
       "      <td>3</td>\n",
       "      <td>1895</td>\n",
       "      <td>M</td>\n",
       "      <td>R</td>\n",
       "      <td>80</td>\n",
       "      <td>12</td>\n",
       "      <td>NaN</td>\n",
       "      <td>22.0</td>\n",
       "      <td>0.5</td>\n",
       "      <td>1698</td>\n",
       "      <td>0.701</td>\n",
       "      <td>1.034</td>\n",
       "    </tr>\n",
       "  </tbody>\n",
       "</table>\n",
       "</div>"
      ],
      "text/plain": [
       "  Subject ID         MRI ID        Group  Visit  MR Delay M/F Hand  Age  EDUC  \\\n",
       "0  OAS2_0001  OAS2_0001_MR1  Nondemented      1         0   M    R   87    14   \n",
       "1  OAS2_0001  OAS2_0001_MR2  Nondemented      2       457   M    R   88    14   \n",
       "2  OAS2_0002  OAS2_0002_MR1     Demented      1         0   M    R   75    12   \n",
       "3  OAS2_0002  OAS2_0002_MR2     Demented      2       560   M    R   76    12   \n",
       "4  OAS2_0002  OAS2_0002_MR3     Demented      3      1895   M    R   80    12   \n",
       "\n",
       "   SES  MMSE  CDR  eTIV   nWBV    ASF  \n",
       "0  2.0  27.0  0.0  1987  0.696  0.883  \n",
       "1  2.0  30.0  0.0  2004  0.681  0.876  \n",
       "2  NaN  23.0  0.5  1678  0.736  1.046  \n",
       "3  NaN  28.0  0.5  1738  0.713  1.010  \n",
       "4  NaN  22.0  0.5  1698  0.701  1.034  "
      ]
     },
     "execution_count": 74,
     "metadata": {},
     "output_type": "execute_result"
    }
   ],
   "source": [
    "Long_sec.head()"
   ]
  },
  {
   "cell_type": "markdown",
   "id": "3d4d52fa",
   "metadata": {},
   "source": [
    "**2.2. Cleaning the data**"
   ]
  },
  {
   "cell_type": "code",
   "execution_count": 75,
   "id": "cc935e77",
   "metadata": {},
   "outputs": [
    {
     "name": "stdout",
     "output_type": "stream",
     "text": [
      "<class 'pandas.core.frame.DataFrame'>\n",
      "RangeIndex: 436 entries, 0 to 435\n",
      "Data columns (total 12 columns):\n",
      " #   Column  Non-Null Count  Dtype  \n",
      "---  ------  --------------  -----  \n",
      " 0   ID      436 non-null    object \n",
      " 1   M/F     436 non-null    object \n",
      " 2   Hand    436 non-null    object \n",
      " 3   Age     436 non-null    int64  \n",
      " 4   Educ    235 non-null    float64\n",
      " 5   SES     216 non-null    float64\n",
      " 6   MMSE    235 non-null    float64\n",
      " 7   CDR     235 non-null    float64\n",
      " 8   eTIV    436 non-null    int64  \n",
      " 9   nWBV    436 non-null    float64\n",
      " 10  ASF     436 non-null    float64\n",
      " 11  Delay   20 non-null     float64\n",
      "dtypes: float64(7), int64(2), object(3)\n",
      "memory usage: 41.0+ KB\n"
     ]
    }
   ],
   "source": [
    "Cross_sec.info()"
   ]
  },
  {
   "cell_type": "code",
   "execution_count": 76,
   "id": "39150b14",
   "metadata": {},
   "outputs": [
    {
     "name": "stdout",
     "output_type": "stream",
     "text": [
      "<class 'pandas.core.frame.DataFrame'>\n",
      "RangeIndex: 373 entries, 0 to 372\n",
      "Data columns (total 15 columns):\n",
      " #   Column      Non-Null Count  Dtype  \n",
      "---  ------      --------------  -----  \n",
      " 0   Subject ID  373 non-null    object \n",
      " 1   MRI ID      373 non-null    object \n",
      " 2   Group       373 non-null    object \n",
      " 3   Visit       373 non-null    int64  \n",
      " 4   MR Delay    373 non-null    int64  \n",
      " 5   M/F         373 non-null    object \n",
      " 6   Hand        373 non-null    object \n",
      " 7   Age         373 non-null    int64  \n",
      " 8   EDUC        373 non-null    int64  \n",
      " 9   SES         354 non-null    float64\n",
      " 10  MMSE        371 non-null    float64\n",
      " 11  CDR         373 non-null    float64\n",
      " 12  eTIV        373 non-null    int64  \n",
      " 13  nWBV        373 non-null    float64\n",
      " 14  ASF         373 non-null    float64\n",
      "dtypes: float64(5), int64(5), object(5)\n",
      "memory usage: 43.8+ KB\n"
     ]
    }
   ],
   "source": [
    "Long_sec.info()"
   ]
  },
  {
   "cell_type": "markdown",
   "id": "93eacf7b",
   "metadata": {},
   "source": [
    "#### Check if data are all for right hand or left hand or both? "
   ]
  },
  {
   "cell_type": "code",
   "execution_count": 77,
   "id": "1b171154",
   "metadata": {},
   "outputs": [
    {
     "data": {
      "text/plain": [
       "array(['R'], dtype=object)"
      ]
     },
     "execution_count": 77,
     "metadata": {},
     "output_type": "execute_result"
    }
   ],
   "source": [
    "Cross_sec['Hand'].unique()"
   ]
  },
  {
   "cell_type": "code",
   "execution_count": 78,
   "id": "3883be25",
   "metadata": {},
   "outputs": [
    {
     "data": {
      "text/plain": [
       "array(['R'], dtype=object)"
      ]
     },
     "execution_count": 78,
     "metadata": {},
     "output_type": "execute_result"
    }
   ],
   "source": [
    "Long_sec['Hand'].unique()"
   ]
  },
  {
   "cell_type": "markdown",
   "id": "fde576c8",
   "metadata": {},
   "source": [
    "So all the data are from right hand poeple, thefore we do not need to keep this column"
   ]
  },
  {
   "cell_type": "code",
   "execution_count": 79,
   "id": "344e024e",
   "metadata": {},
   "outputs": [],
   "source": [
    "Cross_sec = Cross_sec.drop(['Hand'], axis = 1)"
   ]
  },
  {
   "cell_type": "code",
   "execution_count": 80,
   "id": "e22cce11",
   "metadata": {},
   "outputs": [],
   "source": [
    "Long_sec = Long_sec.drop(['Hand'], axis = 1)"
   ]
  },
  {
   "cell_type": "code",
   "execution_count": 81,
   "id": "bcc32e52",
   "metadata": {},
   "outputs": [
    {
     "data": {
      "text/plain": [
       "F    213\n",
       "M    160\n",
       "Name: M/F, dtype: int64"
      ]
     },
     "execution_count": 81,
     "metadata": {},
     "output_type": "execute_result"
    }
   ],
   "source": [
    "Long_sec['M/F'].value_counts()"
   ]
  },
  {
   "cell_type": "markdown",
   "id": "3f3bbdd9",
   "metadata": {},
   "source": [
    "#### Counts the number of subjects scanned for Longitudinal and cross sectional "
   ]
  },
  {
   "cell_type": "code",
   "execution_count": 82,
   "id": "279476b5",
   "metadata": {},
   "outputs": [
    {
     "data": {
      "text/plain": [
       "436"
      ]
     },
     "execution_count": 82,
     "metadata": {},
     "output_type": "execute_result"
    }
   ],
   "source": [
    "Cross_sec['ID'].value_counts().sum()"
   ]
  },
  {
   "cell_type": "code",
   "execution_count": 83,
   "id": "746aabc1",
   "metadata": {},
   "outputs": [
    {
     "data": {
      "text/plain": [
       "373"
      ]
     },
     "execution_count": 83,
     "metadata": {},
     "output_type": "execute_result"
    }
   ],
   "source": [
    "Long_sec['Subject ID'].value_counts().sum()"
   ]
  },
  {
   "cell_type": "markdown",
   "id": "5221d5be",
   "metadata": {},
   "source": [
    "#### Renaming the similar columns in both group to the same name "
   ]
  },
  {
   "cell_type": "code",
   "execution_count": 84,
   "id": "92be3ae2",
   "metadata": {},
   "outputs": [
    {
     "data": {
      "text/plain": [
       "Index(['ID', 'M/F', 'Age', 'Educ', 'SES', 'MMSE', 'CDR', 'eTIV', 'nWBV', 'ASF',\n",
       "       'Delay'],\n",
       "      dtype='object')"
      ]
     },
     "execution_count": 84,
     "metadata": {},
     "output_type": "execute_result"
    }
   ],
   "source": [
    "Cross_sec.columns"
   ]
  },
  {
   "cell_type": "code",
   "execution_count": 85,
   "id": "c2d3a856",
   "metadata": {},
   "outputs": [
    {
     "data": {
      "text/plain": [
       "Index(['Subject ID', 'MRI ID', 'Group', 'Visit', 'MR Delay', 'M/F', 'Age',\n",
       "       'EDUC', 'SES', 'MMSE', 'CDR', 'eTIV', 'nWBV', 'ASF'],\n",
       "      dtype='object')"
      ]
     },
     "execution_count": 85,
     "metadata": {},
     "output_type": "execute_result"
    }
   ],
   "source": [
    "Long_sec.columns"
   ]
  },
  {
   "cell_type": "code",
   "execution_count": 86,
   "id": "4c20802e",
   "metadata": {},
   "outputs": [],
   "source": [
    "Cross_sec = Cross_sec.rename(columns={'ID':'Subject ID'})"
   ]
  },
  {
   "cell_type": "code",
   "execution_count": 87,
   "id": "23a30e32",
   "metadata": {},
   "outputs": [],
   "source": [
    "Long_sec = Long_sec.rename(columns={'EDUC':'Educ'})"
   ]
  },
  {
   "cell_type": "markdown",
   "id": "5482b7f9",
   "metadata": {},
   "source": [
    "#### Finding the number of Null values for differnt features "
   ]
  },
  {
   "cell_type": "code",
   "execution_count": 88,
   "id": "7082499e",
   "metadata": {},
   "outputs": [
    {
     "data": {
      "text/plain": [
       "Subject ID      0\n",
       "M/F             0\n",
       "Age             0\n",
       "Educ          201\n",
       "SES           220\n",
       "MMSE          201\n",
       "CDR           201\n",
       "eTIV            0\n",
       "nWBV            0\n",
       "ASF             0\n",
       "Delay         416\n",
       "dtype: int64"
      ]
     },
     "execution_count": 88,
     "metadata": {},
     "output_type": "execute_result"
    }
   ],
   "source": [
    "Cross_sec.isna().sum()"
   ]
  },
  {
   "cell_type": "code",
   "execution_count": 89,
   "id": "dc11ff5a",
   "metadata": {},
   "outputs": [
    {
     "data": {
      "text/plain": [
       "Subject ID     0\n",
       "MRI ID         0\n",
       "Group          0\n",
       "Visit          0\n",
       "MR Delay       0\n",
       "M/F            0\n",
       "Age            0\n",
       "Educ           0\n",
       "SES           19\n",
       "MMSE           2\n",
       "CDR            0\n",
       "eTIV           0\n",
       "nWBV           0\n",
       "ASF            0\n",
       "dtype: int64"
      ]
     },
     "execution_count": 89,
     "metadata": {},
     "output_type": "execute_result"
    }
   ],
   "source": [
    "Long_sec.isna().sum()"
   ]
  },
  {
   "cell_type": "code",
   "execution_count": 90,
   "id": "d153822d",
   "metadata": {},
   "outputs": [],
   "source": [
    "Cross_sec = Cross_sec.drop(['Delay'], axis = 1)"
   ]
  },
  {
   "cell_type": "code",
   "execution_count": 91,
   "id": "f62c2389",
   "metadata": {},
   "outputs": [
    {
     "data": {
      "text/plain": [
       "201"
      ]
     },
     "execution_count": 91,
     "metadata": {},
     "output_type": "execute_result"
    }
   ],
   "source": [
    "Cross_sec[Cross_sec['Educ'].isna()]['MMSE'].isna().sum()"
   ]
  },
  {
   "cell_type": "code",
   "execution_count": 92,
   "id": "fe2108c1",
   "metadata": {},
   "outputs": [
    {
     "data": {
      "text/plain": [
       "201"
      ]
     },
     "execution_count": 92,
     "metadata": {},
     "output_type": "execute_result"
    }
   ],
   "source": [
    "Cross_sec[Cross_sec['Educ'].isna()]['CDR'].isna().sum()"
   ]
  },
  {
   "cell_type": "code",
   "execution_count": 93,
   "id": "f18b0343",
   "metadata": {},
   "outputs": [
    {
     "data": {
      "text/plain": [
       "201"
      ]
     },
     "execution_count": 93,
     "metadata": {},
     "output_type": "execute_result"
    }
   ],
   "source": [
    "Cross_sec[Cross_sec['SES'].isna()]['CDR'].isna().sum()"
   ]
  },
  {
   "cell_type": "code",
   "execution_count": 94,
   "id": "478ebcdd",
   "metadata": {},
   "outputs": [
    {
     "data": {
      "text/plain": [
       "201"
      ]
     },
     "execution_count": 94,
     "metadata": {},
     "output_type": "execute_result"
    }
   ],
   "source": [
    "Cross_sec[Cross_sec['SES'].isna()]['MMSE'].isna().sum()"
   ]
  },
  {
   "cell_type": "code",
   "execution_count": 95,
   "id": "91523e90",
   "metadata": {},
   "outputs": [
    {
     "data": {
      "text/plain": [
       "201"
      ]
     },
     "execution_count": 95,
     "metadata": {},
     "output_type": "execute_result"
    }
   ],
   "source": [
    "Cross_sec[Cross_sec['SES'].isna()]['Educ'].isna().sum()"
   ]
  },
  {
   "cell_type": "markdown",
   "id": "27aef538",
   "metadata": {},
   "source": [
    "#### There are 201 observation that have NAN value for MMSE, Educ, CDR, SES"
   ]
  },
  {
   "cell_type": "code",
   "execution_count": 96,
   "id": "2a22dbe5",
   "metadata": {},
   "outputs": [],
   "source": [
    "Cross_sec_cl = Cross_sec[Cross_sec['CDR'].notna()]"
   ]
  },
  {
   "cell_type": "code",
   "execution_count": 97,
   "id": "90062d20",
   "metadata": {},
   "outputs": [
    {
     "data": {
      "text/plain": [
       "Subject ID     0\n",
       "M/F            0\n",
       "Age            0\n",
       "Educ           0\n",
       "SES           19\n",
       "MMSE           0\n",
       "CDR            0\n",
       "eTIV           0\n",
       "nWBV           0\n",
       "ASF            0\n",
       "dtype: int64"
      ]
     },
     "execution_count": 97,
     "metadata": {},
     "output_type": "execute_result"
    }
   ],
   "source": [
    "Cross_sec_cl.isna().sum()"
   ]
  },
  {
   "cell_type": "markdown",
   "id": "363d4fa6",
   "metadata": {},
   "source": [
    " Filling the NAN value with the median for social economy status, SES,  column"
   ]
  },
  {
   "cell_type": "code",
   "execution_count": 98,
   "id": "cc67499c",
   "metadata": {},
   "outputs": [
    {
     "name": "stderr",
     "output_type": "stream",
     "text": [
      "/Users/masoumeh/opt/anaconda3/lib/python3.8/site-packages/pandas/core/series.py:4463: SettingWithCopyWarning: \n",
      "A value is trying to be set on a copy of a slice from a DataFrame\n",
      "\n",
      "See the caveats in the documentation: https://pandas.pydata.org/pandas-docs/stable/user_guide/indexing.html#returning-a-view-versus-a-copy\n",
      "  return super().fillna(\n"
     ]
    }
   ],
   "source": [
    "Cross_sec_cl['SES'].fillna(Cross_sec_cl['SES'].median(), inplace=True)"
   ]
  },
  {
   "cell_type": "code",
   "execution_count": 125,
   "id": "77ceb456",
   "metadata": {},
   "outputs": [],
   "source": [
    "Long_sec_cl = Long_sec\n",
    "Long_sec_cl['SES'].fillna(Long_sec_cl['SES'].median(), inplace=True)"
   ]
  },
  {
   "cell_type": "markdown",
   "id": "4711918f",
   "metadata": {},
   "source": [
    "It is better to remove the null observation for MMSE, because this is a mental test and also there are only two observations with Null value for MMSE. "
   ]
  },
  {
   "cell_type": "code",
   "execution_count": 126,
   "id": "d265eedb",
   "metadata": {},
   "outputs": [],
   "source": [
    "Long_sec_cl = Long_sec[Long_sec['MMSE'].notna()]"
   ]
  },
  {
   "cell_type": "code",
   "execution_count": 127,
   "id": "5918aabc",
   "metadata": {},
   "outputs": [
    {
     "data": {
      "text/plain": [
       "Subject ID    0\n",
       "M/F           0\n",
       "Age           0\n",
       "Educ          0\n",
       "SES           0\n",
       "MMSE          0\n",
       "CDR           0\n",
       "eTIV          0\n",
       "nWBV          0\n",
       "ASF           0\n",
       "dtype: int64"
      ]
     },
     "execution_count": 127,
     "metadata": {},
     "output_type": "execute_result"
    }
   ],
   "source": [
    "Cross_sec_cl.isna().sum()"
   ]
  },
  {
   "cell_type": "code",
   "execution_count": 128,
   "id": "59e12c14",
   "metadata": {
    "scrolled": true
   },
   "outputs": [
    {
     "data": {
      "text/plain": [
       "Subject ID    0\n",
       "MRI ID        0\n",
       "Group         0\n",
       "Visit         0\n",
       "MR Delay      0\n",
       "M/F           0\n",
       "Age           0\n",
       "Educ          0\n",
       "SES           0\n",
       "MMSE          0\n",
       "CDR           0\n",
       "eTIV          0\n",
       "nWBV          0\n",
       "ASF           0\n",
       "dtype: int64"
      ]
     },
     "execution_count": 128,
     "metadata": {},
     "output_type": "execute_result"
    }
   ],
   "source": [
    "Long_sec_cl.isna().sum()"
   ]
  },
  {
   "cell_type": "code",
   "execution_count": 129,
   "id": "0dc85c6f",
   "metadata": {},
   "outputs": [
    {
     "data": {
      "text/html": [
       "<div>\n",
       "<style scoped>\n",
       "    .dataframe tbody tr th:only-of-type {\n",
       "        vertical-align: middle;\n",
       "    }\n",
       "\n",
       "    .dataframe tbody tr th {\n",
       "        vertical-align: top;\n",
       "    }\n",
       "\n",
       "    .dataframe thead th {\n",
       "        text-align: right;\n",
       "    }\n",
       "</style>\n",
       "<table border=\"1\" class=\"dataframe\">\n",
       "  <thead>\n",
       "    <tr style=\"text-align: right;\">\n",
       "      <th></th>\n",
       "      <th>Subject ID</th>\n",
       "      <th>M/F</th>\n",
       "      <th>Age</th>\n",
       "      <th>Educ</th>\n",
       "      <th>SES</th>\n",
       "      <th>MMSE</th>\n",
       "      <th>CDR</th>\n",
       "      <th>eTIV</th>\n",
       "      <th>nWBV</th>\n",
       "      <th>ASF</th>\n",
       "    </tr>\n",
       "  </thead>\n",
       "  <tbody>\n",
       "    <tr>\n",
       "      <th>0</th>\n",
       "      <td>OAS1_0001_MR1</td>\n",
       "      <td>F</td>\n",
       "      <td>74</td>\n",
       "      <td>2.0</td>\n",
       "      <td>3.0</td>\n",
       "      <td>29.0</td>\n",
       "      <td>0.0</td>\n",
       "      <td>1344</td>\n",
       "      <td>0.743</td>\n",
       "      <td>1.306</td>\n",
       "    </tr>\n",
       "    <tr>\n",
       "      <th>1</th>\n",
       "      <td>OAS1_0002_MR1</td>\n",
       "      <td>F</td>\n",
       "      <td>55</td>\n",
       "      <td>4.0</td>\n",
       "      <td>1.0</td>\n",
       "      <td>29.0</td>\n",
       "      <td>0.0</td>\n",
       "      <td>1147</td>\n",
       "      <td>0.810</td>\n",
       "      <td>1.531</td>\n",
       "    </tr>\n",
       "    <tr>\n",
       "      <th>2</th>\n",
       "      <td>OAS1_0003_MR1</td>\n",
       "      <td>F</td>\n",
       "      <td>73</td>\n",
       "      <td>4.0</td>\n",
       "      <td>3.0</td>\n",
       "      <td>27.0</td>\n",
       "      <td>0.5</td>\n",
       "      <td>1454</td>\n",
       "      <td>0.708</td>\n",
       "      <td>1.207</td>\n",
       "    </tr>\n",
       "    <tr>\n",
       "      <th>8</th>\n",
       "      <td>OAS1_0010_MR1</td>\n",
       "      <td>M</td>\n",
       "      <td>74</td>\n",
       "      <td>5.0</td>\n",
       "      <td>2.0</td>\n",
       "      <td>30.0</td>\n",
       "      <td>0.0</td>\n",
       "      <td>1636</td>\n",
       "      <td>0.689</td>\n",
       "      <td>1.073</td>\n",
       "    </tr>\n",
       "    <tr>\n",
       "      <th>9</th>\n",
       "      <td>OAS1_0011_MR1</td>\n",
       "      <td>F</td>\n",
       "      <td>52</td>\n",
       "      <td>3.0</td>\n",
       "      <td>2.0</td>\n",
       "      <td>30.0</td>\n",
       "      <td>0.0</td>\n",
       "      <td>1321</td>\n",
       "      <td>0.827</td>\n",
       "      <td>1.329</td>\n",
       "    </tr>\n",
       "  </tbody>\n",
       "</table>\n",
       "</div>"
      ],
      "text/plain": [
       "      Subject ID M/F  Age  Educ  SES  MMSE  CDR  eTIV   nWBV    ASF\n",
       "0  OAS1_0001_MR1   F   74   2.0  3.0  29.0  0.0  1344  0.743  1.306\n",
       "1  OAS1_0002_MR1   F   55   4.0  1.0  29.0  0.0  1147  0.810  1.531\n",
       "2  OAS1_0003_MR1   F   73   4.0  3.0  27.0  0.5  1454  0.708  1.207\n",
       "8  OAS1_0010_MR1   M   74   5.0  2.0  30.0  0.0  1636  0.689  1.073\n",
       "9  OAS1_0011_MR1   F   52   3.0  2.0  30.0  0.0  1321  0.827  1.329"
      ]
     },
     "execution_count": 129,
     "metadata": {},
     "output_type": "execute_result"
    }
   ],
   "source": [
    "Cross_sec_cl.head()"
   ]
  },
  {
   "cell_type": "markdown",
   "id": "472b6686",
   "metadata": {},
   "source": [
    "The CDR is based on a scale of 0–3: no dementia (CDR = 0), questionable dementia (CDR = 0.5), MCI (CDR = 1), moderate cognitive impairment (CDR = 2), and severe cognitive impairment (CDR = 3)"
   ]
  },
  {
   "cell_type": "code",
   "execution_count": 130,
   "id": "57a6f33d",
   "metadata": {},
   "outputs": [
    {
     "data": {
      "text/plain": [
       "Subject ID    100\n",
       "M/F           100\n",
       "Age           100\n",
       "Educ          100\n",
       "SES           100\n",
       "MMSE          100\n",
       "CDR           100\n",
       "eTIV          100\n",
       "nWBV          100\n",
       "ASF           100\n",
       "dtype: int64"
      ]
     },
     "execution_count": 130,
     "metadata": {},
     "output_type": "execute_result"
    }
   ],
   "source": [
    "Cross_sec_cl[Cross_sec_cl['CDR'] >0].count()"
   ]
  },
  {
   "cell_type": "markdown",
   "id": "c94cb06b",
   "metadata": {},
   "source": [
    "So in group 1, there are 100 Dementia. "
   ]
  },
  {
   "cell_type": "code",
   "execution_count": 131,
   "id": "b9997090",
   "metadata": {},
   "outputs": [
    {
     "data": {
      "text/plain": [
       "Subject ID    165\n",
       "MRI ID        165\n",
       "Group         165\n",
       "Visit         165\n",
       "MR Delay      165\n",
       "M/F           165\n",
       "Age           165\n",
       "Educ          165\n",
       "SES           165\n",
       "MMSE          165\n",
       "CDR           165\n",
       "eTIV          165\n",
       "nWBV          165\n",
       "ASF           165\n",
       "dtype: int64"
      ]
     },
     "execution_count": 131,
     "metadata": {},
     "output_type": "execute_result"
    }
   ],
   "source": [
    "Long_sec_cl[Long_sec_cl['CDR'] >0].count()"
   ]
  },
  {
   "cell_type": "markdown",
   "id": "2c096095",
   "metadata": {},
   "source": [
    "There are 165 Demnetia in the observations in longitudinal study, \n",
    "and some of these data obtained from the same subject (Same subject ID) during study.\n",
    "I consider these repeated measurments as a new measurment. "
   ]
  },
  {
   "cell_type": "markdown",
   "id": "348d293c",
   "metadata": {},
   "source": [
    "Therfore I removed few columns such as MR Delay, Group\n",
    ", Visit, Subject ID, MRI ID from longitudinal data "
   ]
  },
  {
   "cell_type": "code",
   "execution_count": 132,
   "id": "d95b0aaa",
   "metadata": {},
   "outputs": [
    {
     "name": "stderr",
     "output_type": "stream",
     "text": [
      "/Users/masoumeh/opt/anaconda3/lib/python3.8/site-packages/pandas/core/frame.py:4308: SettingWithCopyWarning: \n",
      "A value is trying to be set on a copy of a slice from a DataFrame\n",
      "\n",
      "See the caveats in the documentation: https://pandas.pydata.org/pandas-docs/stable/user_guide/indexing.html#returning-a-view-versus-a-copy\n",
      "  return super().drop(\n"
     ]
    }
   ],
   "source": [
    "Long_sec_cl.drop(columns=['MR Delay', 'Group' , 'Visit', 'Subject ID', 'MRI ID'], inplace = True)"
   ]
  },
  {
   "cell_type": "code",
   "execution_count": 134,
   "id": "bd877307",
   "metadata": {},
   "outputs": [],
   "source": [
    "Cross_sec_cl.drop(columns=['Subject ID'],inplace=True)"
   ]
  },
  {
   "cell_type": "code",
   "execution_count": 136,
   "id": "9335b139",
   "metadata": {},
   "outputs": [],
   "source": [
    "Cross_Long = pd.concat([Long_sec_cl,Cross_sec_cl])"
   ]
  },
  {
   "cell_type": "code",
   "execution_count": 138,
   "id": "4e413b48",
   "metadata": {},
   "outputs": [
    {
     "name": "stdout",
     "output_type": "stream",
     "text": [
      "<class 'pandas.core.frame.DataFrame'>\n",
      "Int64Index: 606 entries, 0 to 415\n",
      "Data columns (total 9 columns):\n",
      " #   Column  Non-Null Count  Dtype  \n",
      "---  ------  --------------  -----  \n",
      " 0   M/F     606 non-null    object \n",
      " 1   Age     606 non-null    int64  \n",
      " 2   Educ    606 non-null    float64\n",
      " 3   SES     606 non-null    float64\n",
      " 4   MMSE    606 non-null    float64\n",
      " 5   CDR     606 non-null    float64\n",
      " 6   eTIV    606 non-null    int64  \n",
      " 7   nWBV    606 non-null    float64\n",
      " 8   ASF     606 non-null    float64\n",
      "dtypes: float64(6), int64(2), object(1)\n",
      "memory usage: 47.3+ KB\n"
     ]
    }
   ],
   "source": [
    "Cross_Long.info()"
   ]
  },
  {
   "cell_type": "code",
   "execution_count": 141,
   "id": "e2fbabfa",
   "metadata": {},
   "outputs": [
    {
     "data": {
      "text/html": [
       "<style  type=\"text/css\" >\n",
       "#T_c4fc8_row0_col0,#T_c4fc8_row1_col1,#T_c4fc8_row2_col2,#T_c4fc8_row3_col3,#T_c4fc8_row4_col4,#T_c4fc8_row5_col5,#T_c4fc8_row6_col6,#T_c4fc8_row7_col7{\n",
       "            background-color:  #b40426;\n",
       "            color:  #f1f1f1;\n",
       "        }#T_c4fc8_row0_col1{\n",
       "            background-color:  #b2ccfb;\n",
       "            color:  #000000;\n",
       "        }#T_c4fc8_row0_col2{\n",
       "            background-color:  #8caffe;\n",
       "            color:  #000000;\n",
       "        }#T_c4fc8_row0_col3{\n",
       "            background-color:  #b5cdfa;\n",
       "            color:  #000000;\n",
       "        }#T_c4fc8_row0_col4{\n",
       "            background-color:  #dbdcde;\n",
       "            color:  #000000;\n",
       "        }#T_c4fc8_row0_col5{\n",
       "            background-color:  #e3d9d3;\n",
       "            color:  #000000;\n",
       "        }#T_c4fc8_row0_col6,#T_c4fc8_row1_col2,#T_c4fc8_row2_col1,#T_c4fc8_row3_col4,#T_c4fc8_row4_col3,#T_c4fc8_row5_col7,#T_c4fc8_row6_col0,#T_c4fc8_row7_col5{\n",
       "            background-color:  #3b4cc0;\n",
       "            color:  #f1f1f1;\n",
       "        }#T_c4fc8_row0_col7{\n",
       "            background-color:  #d5dbe5;\n",
       "            color:  #000000;\n",
       "        }#T_c4fc8_row1_col0{\n",
       "            background-color:  #dedcdb;\n",
       "            color:  #000000;\n",
       "        }#T_c4fc8_row1_col3{\n",
       "            background-color:  #d8dce2;\n",
       "            color:  #000000;\n",
       "        }#T_c4fc8_row1_col4,#T_c4fc8_row7_col2{\n",
       "            background-color:  #bad0f8;\n",
       "            color:  #000000;\n",
       "        }#T_c4fc8_row1_col5{\n",
       "            background-color:  #efcfbf;\n",
       "            color:  #000000;\n",
       "        }#T_c4fc8_row1_col6{\n",
       "            background-color:  #97b8ff;\n",
       "            color:  #000000;\n",
       "        }#T_c4fc8_row1_col7{\n",
       "            background-color:  #c6d6f1;\n",
       "            color:  #000000;\n",
       "        }#T_c4fc8_row2_col0{\n",
       "            background-color:  #c7d7f0;\n",
       "            color:  #000000;\n",
       "        }#T_c4fc8_row2_col3{\n",
       "            background-color:  #a6c4fe;\n",
       "            color:  #000000;\n",
       "        }#T_c4fc8_row2_col4,#T_c4fc8_row4_col0{\n",
       "            background-color:  #d6dce4;\n",
       "            color:  #000000;\n",
       "        }#T_c4fc8_row2_col5,#T_c4fc8_row6_col5{\n",
       "            background-color:  #bbd1f8;\n",
       "            color:  #000000;\n",
       "        }#T_c4fc8_row2_col6{\n",
       "            background-color:  #bfd3f6;\n",
       "            color:  #000000;\n",
       "        }#T_c4fc8_row2_col7{\n",
       "            background-color:  #f2c9b4;\n",
       "            color:  #000000;\n",
       "        }#T_c4fc8_row3_col0,#T_c4fc8_row5_col1{\n",
       "            background-color:  #adc9fd;\n",
       "            color:  #000000;\n",
       "        }#T_c4fc8_row3_col1{\n",
       "            background-color:  #9fbfff;\n",
       "            color:  #000000;\n",
       "        }#T_c4fc8_row3_col2{\n",
       "            background-color:  #5470de;\n",
       "            color:  #000000;\n",
       "        }#T_c4fc8_row3_col5{\n",
       "            background-color:  #d9dce1;\n",
       "            color:  #000000;\n",
       "        }#T_c4fc8_row3_col6{\n",
       "            background-color:  #f4c5ad;\n",
       "            color:  #000000;\n",
       "        }#T_c4fc8_row3_col7{\n",
       "            background-color:  #dfdbd9;\n",
       "            color:  #000000;\n",
       "        }#T_c4fc8_row4_col1{\n",
       "            background-color:  #6e90f2;\n",
       "            color:  #000000;\n",
       "        }#T_c4fc8_row4_col2{\n",
       "            background-color:  #9abbff;\n",
       "            color:  #000000;\n",
       "        }#T_c4fc8_row4_col5,#T_c4fc8_row7_col6{\n",
       "            background-color:  #e4d9d2;\n",
       "            color:  #000000;\n",
       "        }#T_c4fc8_row4_col6{\n",
       "            background-color:  #688aef;\n",
       "            color:  #000000;\n",
       "        }#T_c4fc8_row4_col7{\n",
       "            background-color:  #d2dbe8;\n",
       "            color:  #000000;\n",
       "        }#T_c4fc8_row5_col0{\n",
       "            background-color:  #c9d7f0;\n",
       "            color:  #000000;\n",
       "        }#T_c4fc8_row5_col2{\n",
       "            background-color:  #4358cb;\n",
       "            color:  #f1f1f1;\n",
       "        }#T_c4fc8_row5_col3{\n",
       "            background-color:  #c1d4f4;\n",
       "            color:  #000000;\n",
       "        }#T_c4fc8_row5_col4{\n",
       "            background-color:  #d1dae9;\n",
       "            color:  #000000;\n",
       "        }#T_c4fc8_row5_col6{\n",
       "            background-color:  #8fb1fe;\n",
       "            color:  #000000;\n",
       "        }#T_c4fc8_row6_col1{\n",
       "            background-color:  #4c66d6;\n",
       "            color:  #000000;\n",
       "        }#T_c4fc8_row6_col2{\n",
       "            background-color:  #81a4fb;\n",
       "            color:  #000000;\n",
       "        }#T_c4fc8_row6_col3{\n",
       "            background-color:  #f5c1a9;\n",
       "            color:  #000000;\n",
       "        }#T_c4fc8_row6_col4{\n",
       "            background-color:  #7396f5;\n",
       "            color:  #000000;\n",
       "        }#T_c4fc8_row6_col7{\n",
       "            background-color:  #f3c8b2;\n",
       "            color:  #000000;\n",
       "        }#T_c4fc8_row7_col0{\n",
       "            background-color:  #b3cdfb;\n",
       "            color:  #000000;\n",
       "        }#T_c4fc8_row7_col1{\n",
       "            background-color:  #5572df;\n",
       "            color:  #000000;\n",
       "        }#T_c4fc8_row7_col3{\n",
       "            background-color:  #cad8ef;\n",
       "            color:  #000000;\n",
       "        }#T_c4fc8_row7_col4{\n",
       "            background-color:  #b6cefa;\n",
       "            color:  #000000;\n",
       "        }</style><table id=\"T_c4fc8_\" ><thead>    <tr>        <th class=\"blank level0\" ></th>        <th class=\"col_heading level0 col0\" >Age</th>        <th class=\"col_heading level0 col1\" >Educ</th>        <th class=\"col_heading level0 col2\" >SES</th>        <th class=\"col_heading level0 col3\" >MMSE</th>        <th class=\"col_heading level0 col4\" >CDR</th>        <th class=\"col_heading level0 col5\" >eTIV</th>        <th class=\"col_heading level0 col6\" >nWBV</th>        <th class=\"col_heading level0 col7\" >ASF</th>    </tr></thead><tbody>\n",
       "                <tr>\n",
       "                        <th id=\"T_c4fc8_level0_row0\" class=\"row_heading level0 row0\" >Age</th>\n",
       "                        <td id=\"T_c4fc8_row0_col0\" class=\"data row0 col0\" >1.000000</td>\n",
       "                        <td id=\"T_c4fc8_row0_col1\" class=\"data row0 col1\" >0.184351</td>\n",
       "                        <td id=\"T_c4fc8_row0_col2\" class=\"data row0 col2\" >0.049669</td>\n",
       "                        <td id=\"T_c4fc8_row0_col3\" class=\"data row0 col3\" >-0.084787</td>\n",
       "                        <td id=\"T_c4fc8_row0_col4\" class=\"data row0 col4\" >0.133527</td>\n",
       "                        <td id=\"T_c4fc8_row0_col5\" class=\"data row0 col5\" >0.058236</td>\n",
       "                        <td id=\"T_c4fc8_row0_col6\" class=\"data row0 col6\" >-0.647796</td>\n",
       "                        <td id=\"T_c4fc8_row0_col7\" class=\"data row0 col7\" >-0.051177</td>\n",
       "            </tr>\n",
       "            <tr>\n",
       "                        <th id=\"T_c4fc8_level0_row1\" class=\"row_heading level0 row1\" >Educ</th>\n",
       "                        <td id=\"T_c4fc8_row1_col0\" class=\"data row1 col0\" >0.184351</td>\n",
       "                        <td id=\"T_c4fc8_row1_col1\" class=\"data row1 col1\" >1.000000</td>\n",
       "                        <td id=\"T_c4fc8_row1_col2\" class=\"data row1 col2\" >-0.266295</td>\n",
       "                        <td id=\"T_c4fc8_row1_col3\" class=\"data row1 col3\" >0.115209</td>\n",
       "                        <td id=\"T_c4fc8_row1_col4\" class=\"data row1 col4\" >-0.061148</td>\n",
       "                        <td id=\"T_c4fc8_row1_col5\" class=\"data row1 col5\" >0.166613</td>\n",
       "                        <td id=\"T_c4fc8_row1_col6\" class=\"data row1 col6\" >-0.190119</td>\n",
       "                        <td id=\"T_c4fc8_row1_col7\" class=\"data row1 col7\" >-0.155344</td>\n",
       "            </tr>\n",
       "            <tr>\n",
       "                        <th id=\"T_c4fc8_level0_row2\" class=\"row_heading level0 row2\" >SES</th>\n",
       "                        <td id=\"T_c4fc8_row2_col0\" class=\"data row2 col0\" >0.049669</td>\n",
       "                        <td id=\"T_c4fc8_row2_col1\" class=\"data row2 col1\" >-0.266295</td>\n",
       "                        <td id=\"T_c4fc8_row2_col2\" class=\"data row2 col2\" >1.000000</td>\n",
       "                        <td id=\"T_c4fc8_row2_col3\" class=\"data row2 col3\" >-0.162225</td>\n",
       "                        <td id=\"T_c4fc8_row2_col4\" class=\"data row2 col4\" >0.097854</td>\n",
       "                        <td id=\"T_c4fc8_row2_col5\" class=\"data row2 col5\" >-0.226946</td>\n",
       "                        <td id=\"T_c4fc8_row2_col6\" class=\"data row2 col6\" >0.007856</td>\n",
       "                        <td id=\"T_c4fc8_row2_col7\" class=\"data row2 col7\" >0.216320</td>\n",
       "            </tr>\n",
       "            <tr>\n",
       "                        <th id=\"T_c4fc8_level0_row3\" class=\"row_heading level0 row3\" >MMSE</th>\n",
       "                        <td id=\"T_c4fc8_row3_col0\" class=\"data row3 col0\" >-0.084787</td>\n",
       "                        <td id=\"T_c4fc8_row3_col1\" class=\"data row3 col1\" >0.115209</td>\n",
       "                        <td id=\"T_c4fc8_row3_col2\" class=\"data row3 col2\" >-0.162225</td>\n",
       "                        <td id=\"T_c4fc8_row3_col3\" class=\"data row3 col3\" >1.000000</td>\n",
       "                        <td id=\"T_c4fc8_row3_col4\" class=\"data row3 col4\" >-0.711017</td>\n",
       "                        <td id=\"T_c4fc8_row3_col5\" class=\"data row3 col5\" >-0.019059</td>\n",
       "                        <td id=\"T_c4fc8_row3_col6\" class=\"data row3 col6\" >0.377745</td>\n",
       "                        <td id=\"T_c4fc8_row3_col7\" class=\"data row3 col7\" >0.027136</td>\n",
       "            </tr>\n",
       "            <tr>\n",
       "                        <th id=\"T_c4fc8_level0_row4\" class=\"row_heading level0 row4\" >CDR</th>\n",
       "                        <td id=\"T_c4fc8_row4_col0\" class=\"data row4 col0\" >0.133527</td>\n",
       "                        <td id=\"T_c4fc8_row4_col1\" class=\"data row4 col1\" >-0.061148</td>\n",
       "                        <td id=\"T_c4fc8_row4_col2\" class=\"data row4 col2\" >0.097854</td>\n",
       "                        <td id=\"T_c4fc8_row4_col3\" class=\"data row4 col3\" >-0.711017</td>\n",
       "                        <td id=\"T_c4fc8_row4_col4\" class=\"data row4 col4\" >1.000000</td>\n",
       "                        <td id=\"T_c4fc8_row4_col5\" class=\"data row4 col5\" >0.065785</td>\n",
       "                        <td id=\"T_c4fc8_row4_col6\" class=\"data row4 col6\" >-0.406617</td>\n",
       "                        <td id=\"T_c4fc8_row4_col7\" class=\"data row4 col7\" >-0.076771</td>\n",
       "            </tr>\n",
       "            <tr>\n",
       "                        <th id=\"T_c4fc8_level0_row5\" class=\"row_heading level0 row5\" >eTIV</th>\n",
       "                        <td id=\"T_c4fc8_row5_col0\" class=\"data row5 col0\" >0.058236</td>\n",
       "                        <td id=\"T_c4fc8_row5_col1\" class=\"data row5 col1\" >0.166613</td>\n",
       "                        <td id=\"T_c4fc8_row5_col2\" class=\"data row5 col2\" >-0.226946</td>\n",
       "                        <td id=\"T_c4fc8_row5_col3\" class=\"data row5 col3\" >-0.019059</td>\n",
       "                        <td id=\"T_c4fc8_row5_col4\" class=\"data row5 col4\" >0.065785</td>\n",
       "                        <td id=\"T_c4fc8_row5_col5\" class=\"data row5 col5\" >1.000000</td>\n",
       "                        <td id=\"T_c4fc8_row5_col6\" class=\"data row5 col6\" >-0.224172</td>\n",
       "                        <td id=\"T_c4fc8_row5_col7\" class=\"data row5 col7\" >-0.989280</td>\n",
       "            </tr>\n",
       "            <tr>\n",
       "                        <th id=\"T_c4fc8_level0_row6\" class=\"row_heading level0 row6\" >nWBV</th>\n",
       "                        <td id=\"T_c4fc8_row6_col0\" class=\"data row6 col0\" >-0.647796</td>\n",
       "                        <td id=\"T_c4fc8_row6_col1\" class=\"data row6 col1\" >-0.190119</td>\n",
       "                        <td id=\"T_c4fc8_row6_col2\" class=\"data row6 col2\" >0.007856</td>\n",
       "                        <td id=\"T_c4fc8_row6_col3\" class=\"data row6 col3\" >0.377745</td>\n",
       "                        <td id=\"T_c4fc8_row6_col4\" class=\"data row6 col4\" >-0.406617</td>\n",
       "                        <td id=\"T_c4fc8_row6_col5\" class=\"data row6 col5\" >-0.224172</td>\n",
       "                        <td id=\"T_c4fc8_row6_col6\" class=\"data row6 col6\" >1.000000</td>\n",
       "                        <td id=\"T_c4fc8_row6_col7\" class=\"data row6 col7\" >0.226093</td>\n",
       "            </tr>\n",
       "            <tr>\n",
       "                        <th id=\"T_c4fc8_level0_row7\" class=\"row_heading level0 row7\" >ASF</th>\n",
       "                        <td id=\"T_c4fc8_row7_col0\" class=\"data row7 col0\" >-0.051177</td>\n",
       "                        <td id=\"T_c4fc8_row7_col1\" class=\"data row7 col1\" >-0.155344</td>\n",
       "                        <td id=\"T_c4fc8_row7_col2\" class=\"data row7 col2\" >0.216320</td>\n",
       "                        <td id=\"T_c4fc8_row7_col3\" class=\"data row7 col3\" >0.027136</td>\n",
       "                        <td id=\"T_c4fc8_row7_col4\" class=\"data row7 col4\" >-0.076771</td>\n",
       "                        <td id=\"T_c4fc8_row7_col5\" class=\"data row7 col5\" >-0.989280</td>\n",
       "                        <td id=\"T_c4fc8_row7_col6\" class=\"data row7 col6\" >0.226093</td>\n",
       "                        <td id=\"T_c4fc8_row7_col7\" class=\"data row7 col7\" >1.000000</td>\n",
       "            </tr>\n",
       "    </tbody></table>"
      ],
      "text/plain": [
       "<pandas.io.formats.style.Styler at 0x7f9705e6dee0>"
      ]
     },
     "execution_count": 141,
     "metadata": {},
     "output_type": "execute_result"
    }
   ],
   "source": [
    "Corr= Cross_Long.corr()\n",
    "Corr.style.background_gradient(cmap='coolwarm')"
   ]
  },
  {
   "cell_type": "markdown",
   "id": "8b4862fc",
   "metadata": {},
   "source": [
    "CDR has strong correlation with MMSE and nWBV which is measured using MRI."
   ]
  },
  {
   "cell_type": "code",
   "execution_count": 142,
   "id": "b121bef6",
   "metadata": {},
   "outputs": [],
   "source": [
    "Cross_Long_M = Cross_Long[Cross_Long['M/F']=='M']\n",
    "Cross_Long_F = Cross_Long[Cross_Long['M/F']=='F']"
   ]
  },
  {
   "cell_type": "markdown",
   "id": "d0890f0a",
   "metadata": {},
   "source": [
    "Investigating the dependency of correlation to the gender "
   ]
  },
  {
   "cell_type": "code",
   "execution_count": 143,
   "id": "3f32b46d",
   "metadata": {},
   "outputs": [
    {
     "data": {
      "text/html": [
       "<style  type=\"text/css\" >\n",
       "#T_bdb48_row0_col0,#T_bdb48_row1_col1,#T_bdb48_row2_col2,#T_bdb48_row3_col3,#T_bdb48_row4_col4,#T_bdb48_row5_col5,#T_bdb48_row6_col6,#T_bdb48_row7_col7{\n",
       "            background-color:  #b40426;\n",
       "            color:  #f1f1f1;\n",
       "        }#T_bdb48_row0_col1{\n",
       "            background-color:  #b3cdfb;\n",
       "            color:  #000000;\n",
       "        }#T_bdb48_row0_col2{\n",
       "            background-color:  #82a6fb;\n",
       "            color:  #000000;\n",
       "        }#T_bdb48_row0_col3{\n",
       "            background-color:  #b1cbfc;\n",
       "            color:  #000000;\n",
       "        }#T_bdb48_row0_col4,#T_bdb48_row3_col7{\n",
       "            background-color:  #e1dad6;\n",
       "            color:  #000000;\n",
       "        }#T_bdb48_row0_col5{\n",
       "            background-color:  #ead5c9;\n",
       "            color:  #000000;\n",
       "        }#T_bdb48_row0_col6,#T_bdb48_row1_col2,#T_bdb48_row2_col1,#T_bdb48_row3_col2,#T_bdb48_row3_col4,#T_bdb48_row4_col3,#T_bdb48_row5_col7,#T_bdb48_row6_col0,#T_bdb48_row7_col5{\n",
       "            background-color:  #3b4cc0;\n",
       "            color:  #f1f1f1;\n",
       "        }#T_bdb48_row0_col7{\n",
       "            background-color:  #cfdaea;\n",
       "            color:  #000000;\n",
       "        }#T_bdb48_row1_col0{\n",
       "            background-color:  #e3d9d3;\n",
       "            color:  #000000;\n",
       "        }#T_bdb48_row1_col3,#T_bdb48_row2_col7{\n",
       "            background-color:  #e7d7ce;\n",
       "            color:  #000000;\n",
       "        }#T_bdb48_row1_col4,#T_bdb48_row3_col1{\n",
       "            background-color:  #afcafc;\n",
       "            color:  #000000;\n",
       "        }#T_bdb48_row1_col5{\n",
       "            background-color:  #e2dad5;\n",
       "            color:  #000000;\n",
       "        }#T_bdb48_row1_col6{\n",
       "            background-color:  #a2c1ff;\n",
       "            color:  #000000;\n",
       "        }#T_bdb48_row1_col7{\n",
       "            background-color:  #d7dce3;\n",
       "            color:  #000000;\n",
       "        }#T_bdb48_row2_col0{\n",
       "            background-color:  #c6d6f1;\n",
       "            color:  #000000;\n",
       "        }#T_bdb48_row2_col3{\n",
       "            background-color:  #9ebeff;\n",
       "            color:  #000000;\n",
       "        }#T_bdb48_row2_col4{\n",
       "            background-color:  #e4d9d2;\n",
       "            color:  #000000;\n",
       "        }#T_bdb48_row2_col5,#T_bdb48_row7_col3{\n",
       "            background-color:  #d1dae9;\n",
       "            color:  #000000;\n",
       "        }#T_bdb48_row2_col6{\n",
       "            background-color:  #bbd1f8;\n",
       "            color:  #000000;\n",
       "        }#T_bdb48_row3_col0{\n",
       "            background-color:  #a5c3fe;\n",
       "            color:  #000000;\n",
       "        }#T_bdb48_row3_col5{\n",
       "            background-color:  #d6dce4;\n",
       "            color:  #000000;\n",
       "        }#T_bdb48_row3_col6{\n",
       "            background-color:  #f6bfa6;\n",
       "            color:  #000000;\n",
       "        }#T_bdb48_row4_col0{\n",
       "            background-color:  #dadce0;\n",
       "            color:  #000000;\n",
       "        }#T_bdb48_row4_col1{\n",
       "            background-color:  #516ddb;\n",
       "            color:  #000000;\n",
       "        }#T_bdb48_row4_col2{\n",
       "            background-color:  #a9c6fd;\n",
       "            color:  #000000;\n",
       "        }#T_bdb48_row4_col5{\n",
       "            background-color:  #e5d8d1;\n",
       "            color:  #000000;\n",
       "        }#T_bdb48_row4_col6{\n",
       "            background-color:  #688aef;\n",
       "            color:  #000000;\n",
       "        }#T_bdb48_row4_col7,#T_bdb48_row5_col0{\n",
       "            background-color:  #d3dbe7;\n",
       "            color:  #000000;\n",
       "        }#T_bdb48_row5_col1{\n",
       "            background-color:  #85a8fc;\n",
       "            color:  #000000;\n",
       "        }#T_bdb48_row5_col2{\n",
       "            background-color:  #5f7fe8;\n",
       "            color:  #000000;\n",
       "        }#T_bdb48_row5_col3,#T_bdb48_row6_col5{\n",
       "            background-color:  #c1d4f4;\n",
       "            color:  #000000;\n",
       "        }#T_bdb48_row5_col4{\n",
       "            background-color:  #d5dbe5;\n",
       "            color:  #000000;\n",
       "        }#T_bdb48_row5_col6{\n",
       "            background-color:  #9abbff;\n",
       "            color:  #000000;\n",
       "        }#T_bdb48_row6_col1{\n",
       "            background-color:  #506bda;\n",
       "            color:  #000000;\n",
       "        }#T_bdb48_row6_col2{\n",
       "            background-color:  #7295f4;\n",
       "            color:  #000000;\n",
       "        }#T_bdb48_row6_col3{\n",
       "            background-color:  #f7b99e;\n",
       "            color:  #000000;\n",
       "        }#T_bdb48_row6_col4{\n",
       "            background-color:  #799cf8;\n",
       "            color:  #000000;\n",
       "        }#T_bdb48_row6_col7{\n",
       "            background-color:  #f0cdbb;\n",
       "            color:  #000000;\n",
       "        }#T_bdb48_row7_col0{\n",
       "            background-color:  #aec9fc;\n",
       "            color:  #000000;\n",
       "        }#T_bdb48_row7_col1{\n",
       "            background-color:  #6e90f2;\n",
       "            color:  #000000;\n",
       "        }#T_bdb48_row7_col2{\n",
       "            background-color:  #92b4fe;\n",
       "            color:  #000000;\n",
       "        }#T_bdb48_row7_col4{\n",
       "            background-color:  #bed2f6;\n",
       "            color:  #000000;\n",
       "        }#T_bdb48_row7_col6{\n",
       "            background-color:  #dedcdb;\n",
       "            color:  #000000;\n",
       "        }</style><table id=\"T_bdb48_\" ><thead>    <tr>        <th class=\"blank level0\" ></th>        <th class=\"col_heading level0 col0\" >Age</th>        <th class=\"col_heading level0 col1\" >Educ</th>        <th class=\"col_heading level0 col2\" >SES</th>        <th class=\"col_heading level0 col3\" >MMSE</th>        <th class=\"col_heading level0 col4\" >CDR</th>        <th class=\"col_heading level0 col5\" >eTIV</th>        <th class=\"col_heading level0 col6\" >nWBV</th>        <th class=\"col_heading level0 col7\" >ASF</th>    </tr></thead><tbody>\n",
       "                <tr>\n",
       "                        <th id=\"T_bdb48_level0_row0\" class=\"row_heading level0 row0\" >Age</th>\n",
       "                        <td id=\"T_bdb48_row0_col0\" class=\"data row0 col0\" >1.000000</td>\n",
       "                        <td id=\"T_bdb48_row0_col1\" class=\"data row0 col1\" >0.207966</td>\n",
       "                        <td id=\"T_bdb48_row0_col2\" class=\"data row0 col2\" >0.036444</td>\n",
       "                        <td id=\"T_bdb48_row0_col3\" class=\"data row0 col3\" >-0.138146</td>\n",
       "                        <td id=\"T_bdb48_row0_col4\" class=\"data row0 col4\" >0.151954</td>\n",
       "                        <td id=\"T_bdb48_row0_col5\" class=\"data row0 col5\" >0.107384</td>\n",
       "                        <td id=\"T_bdb48_row0_col6\" class=\"data row0 col6\" >-0.665176</td>\n",
       "                        <td id=\"T_bdb48_row0_col7\" class=\"data row0 col7\" >-0.090020</td>\n",
       "            </tr>\n",
       "            <tr>\n",
       "                        <th id=\"T_bdb48_level0_row1\" class=\"row_heading level0 row1\" >Educ</th>\n",
       "                        <td id=\"T_bdb48_row1_col0\" class=\"data row1 col0\" >0.207966</td>\n",
       "                        <td id=\"T_bdb48_row1_col1\" class=\"data row1 col1\" >1.000000</td>\n",
       "                        <td id=\"T_bdb48_row1_col2\" class=\"data row1 col2\" >-0.238449</td>\n",
       "                        <td id=\"T_bdb48_row1_col3\" class=\"data row1 col3\" >0.193985</td>\n",
       "                        <td id=\"T_bdb48_row1_col4\" class=\"data row1 col4\" >-0.143319</td>\n",
       "                        <td id=\"T_bdb48_row1_col5\" class=\"data row1 col5\" >0.045181</td>\n",
       "                        <td id=\"T_bdb48_row1_col6\" class=\"data row1 col6\" >-0.150699</td>\n",
       "                        <td id=\"T_bdb48_row1_col7\" class=\"data row1 col7\" >-0.039979</td>\n",
       "            </tr>\n",
       "            <tr>\n",
       "                        <th id=\"T_bdb48_level0_row2\" class=\"row_heading level0 row2\" >SES</th>\n",
       "                        <td id=\"T_bdb48_row2_col0\" class=\"data row2 col0\" >0.036444</td>\n",
       "                        <td id=\"T_bdb48_row2_col1\" class=\"data row2 col1\" >-0.238449</td>\n",
       "                        <td id=\"T_bdb48_row2_col2\" class=\"data row2 col2\" >1.000000</td>\n",
       "                        <td id=\"T_bdb48_row2_col3\" class=\"data row2 col3\" >-0.236581</td>\n",
       "                        <td id=\"T_bdb48_row2_col4\" class=\"data row2 col4\" >0.168027</td>\n",
       "                        <td id=\"T_bdb48_row2_col5\" class=\"data row2 col5\" >-0.088488</td>\n",
       "                        <td id=\"T_bdb48_row2_col6\" class=\"data row2 col6\" >-0.025015</td>\n",
       "                        <td id=\"T_bdb48_row2_col7\" class=\"data row2 col7\" >0.085819</td>\n",
       "            </tr>\n",
       "            <tr>\n",
       "                        <th id=\"T_bdb48_level0_row3\" class=\"row_heading level0 row3\" >MMSE</th>\n",
       "                        <td id=\"T_bdb48_row3_col0\" class=\"data row3 col0\" >-0.138146</td>\n",
       "                        <td id=\"T_bdb48_row3_col1\" class=\"data row3 col1\" >0.193985</td>\n",
       "                        <td id=\"T_bdb48_row3_col2\" class=\"data row3 col2\" >-0.236581</td>\n",
       "                        <td id=\"T_bdb48_row3_col3\" class=\"data row3 col3\" >1.000000</td>\n",
       "                        <td id=\"T_bdb48_row3_col4\" class=\"data row3 col4\" >-0.761731</td>\n",
       "                        <td id=\"T_bdb48_row3_col5\" class=\"data row3 col5\" >-0.049977</td>\n",
       "                        <td id=\"T_bdb48_row3_col6\" class=\"data row3 col6\" >0.406895</td>\n",
       "                        <td id=\"T_bdb48_row3_col7\" class=\"data row3 col7\" >0.040636</td>\n",
       "            </tr>\n",
       "            <tr>\n",
       "                        <th id=\"T_bdb48_level0_row4\" class=\"row_heading level0 row4\" >CDR</th>\n",
       "                        <td id=\"T_bdb48_row4_col0\" class=\"data row4 col0\" >0.151954</td>\n",
       "                        <td id=\"T_bdb48_row4_col1\" class=\"data row4 col1\" >-0.143319</td>\n",
       "                        <td id=\"T_bdb48_row4_col2\" class=\"data row4 col2\" >0.168027</td>\n",
       "                        <td id=\"T_bdb48_row4_col3\" class=\"data row4 col3\" >-0.761731</td>\n",
       "                        <td id=\"T_bdb48_row4_col4\" class=\"data row4 col4\" >1.000000</td>\n",
       "                        <td id=\"T_bdb48_row4_col5\" class=\"data row4 col5\" >0.066495</td>\n",
       "                        <td id=\"T_bdb48_row4_col6\" class=\"data row4 col6\" >-0.421479</td>\n",
       "                        <td id=\"T_bdb48_row4_col7\" class=\"data row4 col7\" >-0.067626</td>\n",
       "            </tr>\n",
       "            <tr>\n",
       "                        <th id=\"T_bdb48_level0_row5\" class=\"row_heading level0 row5\" >eTIV</th>\n",
       "                        <td id=\"T_bdb48_row5_col0\" class=\"data row5 col0\" >0.107384</td>\n",
       "                        <td id=\"T_bdb48_row5_col1\" class=\"data row5 col1\" >0.045181</td>\n",
       "                        <td id=\"T_bdb48_row5_col2\" class=\"data row5 col2\" >-0.088488</td>\n",
       "                        <td id=\"T_bdb48_row5_col3\" class=\"data row5 col3\" >-0.049977</td>\n",
       "                        <td id=\"T_bdb48_row5_col4\" class=\"data row5 col4\" >0.066495</td>\n",
       "                        <td id=\"T_bdb48_row5_col5\" class=\"data row5 col5\" >1.000000</td>\n",
       "                        <td id=\"T_bdb48_row5_col6\" class=\"data row5 col6\" >-0.188568</td>\n",
       "                        <td id=\"T_bdb48_row5_col7\" class=\"data row5 col7\" >-0.991764</td>\n",
       "            </tr>\n",
       "            <tr>\n",
       "                        <th id=\"T_bdb48_level0_row6\" class=\"row_heading level0 row6\" >nWBV</th>\n",
       "                        <td id=\"T_bdb48_row6_col0\" class=\"data row6 col0\" >-0.665176</td>\n",
       "                        <td id=\"T_bdb48_row6_col1\" class=\"data row6 col1\" >-0.150699</td>\n",
       "                        <td id=\"T_bdb48_row6_col2\" class=\"data row6 col2\" >-0.025015</td>\n",
       "                        <td id=\"T_bdb48_row6_col3\" class=\"data row6 col3\" >0.406895</td>\n",
       "                        <td id=\"T_bdb48_row6_col4\" class=\"data row6 col4\" >-0.421479</td>\n",
       "                        <td id=\"T_bdb48_row6_col5\" class=\"data row6 col5\" >-0.188568</td>\n",
       "                        <td id=\"T_bdb48_row6_col6\" class=\"data row6 col6\" >1.000000</td>\n",
       "                        <td id=\"T_bdb48_row6_col7\" class=\"data row6 col7\" >0.179053</td>\n",
       "            </tr>\n",
       "            <tr>\n",
       "                        <th id=\"T_bdb48_level0_row7\" class=\"row_heading level0 row7\" >ASF</th>\n",
       "                        <td id=\"T_bdb48_row7_col0\" class=\"data row7 col0\" >-0.090020</td>\n",
       "                        <td id=\"T_bdb48_row7_col1\" class=\"data row7 col1\" >-0.039979</td>\n",
       "                        <td id=\"T_bdb48_row7_col2\" class=\"data row7 col2\" >0.085819</td>\n",
       "                        <td id=\"T_bdb48_row7_col3\" class=\"data row7 col3\" >0.040636</td>\n",
       "                        <td id=\"T_bdb48_row7_col4\" class=\"data row7 col4\" >-0.067626</td>\n",
       "                        <td id=\"T_bdb48_row7_col5\" class=\"data row7 col5\" >-0.991764</td>\n",
       "                        <td id=\"T_bdb48_row7_col6\" class=\"data row7 col6\" >0.179053</td>\n",
       "                        <td id=\"T_bdb48_row7_col7\" class=\"data row7 col7\" >1.000000</td>\n",
       "            </tr>\n",
       "    </tbody></table>"
      ],
      "text/plain": [
       "<pandas.io.formats.style.Styler at 0x7f9706356700>"
      ]
     },
     "execution_count": 143,
     "metadata": {},
     "output_type": "execute_result"
    }
   ],
   "source": [
    "Corr= Cross_Long_F.corr()\n",
    "Corr.style.background_gradient(cmap='coolwarm')"
   ]
  },
  {
   "cell_type": "code",
   "execution_count": 144,
   "id": "4dbf63c1",
   "metadata": {},
   "outputs": [
    {
     "data": {
      "text/html": [
       "<style  type=\"text/css\" >\n",
       "#T_6dbcd_row0_col0,#T_6dbcd_row1_col1,#T_6dbcd_row2_col2,#T_6dbcd_row3_col3,#T_6dbcd_row4_col4,#T_6dbcd_row5_col5,#T_6dbcd_row6_col6,#T_6dbcd_row7_col7{\n",
       "            background-color:  #b40426;\n",
       "            color:  #f1f1f1;\n",
       "        }#T_6dbcd_row0_col1{\n",
       "            background-color:  #aec9fc;\n",
       "            color:  #000000;\n",
       "        }#T_6dbcd_row0_col2,#T_6dbcd_row2_col3{\n",
       "            background-color:  #abc8fd;\n",
       "            color:  #000000;\n",
       "        }#T_6dbcd_row0_col3,#T_6dbcd_row7_col0{\n",
       "            background-color:  #bad0f8;\n",
       "            color:  #000000;\n",
       "        }#T_6dbcd_row0_col4{\n",
       "            background-color:  #d2dbe8;\n",
       "            color:  #000000;\n",
       "        }#T_6dbcd_row0_col5{\n",
       "            background-color:  #e1dad6;\n",
       "            color:  #000000;\n",
       "        }#T_6dbcd_row0_col6,#T_6dbcd_row2_col1,#T_6dbcd_row3_col4,#T_6dbcd_row4_col3,#T_6dbcd_row5_col2,#T_6dbcd_row5_col7,#T_6dbcd_row6_col0,#T_6dbcd_row7_col5{\n",
       "            background-color:  #3b4cc0;\n",
       "            color:  #f1f1f1;\n",
       "        }#T_6dbcd_row0_col7,#T_6dbcd_row5_col3,#T_6dbcd_row7_col4{\n",
       "            background-color:  #d8dce2;\n",
       "            color:  #000000;\n",
       "        }#T_6dbcd_row1_col0{\n",
       "            background-color:  #dadce0;\n",
       "            color:  #000000;\n",
       "        }#T_6dbcd_row1_col2{\n",
       "            background-color:  #516ddb;\n",
       "            color:  #000000;\n",
       "        }#T_6dbcd_row1_col3,#T_6dbcd_row4_col5{\n",
       "            background-color:  #c6d6f1;\n",
       "            color:  #000000;\n",
       "        }#T_6dbcd_row1_col4{\n",
       "            background-color:  #bfd3f6;\n",
       "            color:  #000000;\n",
       "        }#T_6dbcd_row1_col5{\n",
       "            background-color:  #f2cab5;\n",
       "            color:  #000000;\n",
       "        }#T_6dbcd_row1_col6{\n",
       "            background-color:  #96b7ff;\n",
       "            color:  #000000;\n",
       "        }#T_6dbcd_row1_col7,#T_6dbcd_row5_col1{\n",
       "            background-color:  #bed2f6;\n",
       "            color:  #000000;\n",
       "        }#T_6dbcd_row2_col0{\n",
       "            background-color:  #ccd9ed;\n",
       "            color:  #000000;\n",
       "        }#T_6dbcd_row2_col4{\n",
       "            background-color:  #c1d4f4;\n",
       "            color:  #000000;\n",
       "        }#T_6dbcd_row2_col5{\n",
       "            background-color:  #9dbdff;\n",
       "            color:  #000000;\n",
       "        }#T_6dbcd_row2_col6{\n",
       "            background-color:  #c5d6f2;\n",
       "            color:  #000000;\n",
       "        }#T_6dbcd_row2_col7{\n",
       "            background-color:  #f7a98b;\n",
       "            color:  #000000;\n",
       "        }#T_6dbcd_row3_col0{\n",
       "            background-color:  #bcd2f7;\n",
       "            color:  #000000;\n",
       "        }#T_6dbcd_row3_col1{\n",
       "            background-color:  #92b4fe;\n",
       "            color:  #000000;\n",
       "        }#T_6dbcd_row3_col2{\n",
       "            background-color:  #84a7fc;\n",
       "            color:  #000000;\n",
       "        }#T_6dbcd_row3_col5,#T_6dbcd_row4_col7{\n",
       "            background-color:  #edd1c2;\n",
       "            color:  #000000;\n",
       "        }#T_6dbcd_row3_col6{\n",
       "            background-color:  #f0cdbb;\n",
       "            color:  #000000;\n",
       "        }#T_6dbcd_row3_col7{\n",
       "            background-color:  #c9d7f0;\n",
       "            color:  #000000;\n",
       "        }#T_6dbcd_row4_col0{\n",
       "            background-color:  #d4dbe6;\n",
       "            color:  #000000;\n",
       "        }#T_6dbcd_row4_col1{\n",
       "            background-color:  #88abfd;\n",
       "            color:  #000000;\n",
       "        }#T_6dbcd_row4_col2,#T_6dbcd_row6_col2,#T_6dbcd_row7_col3{\n",
       "            background-color:  #a1c0ff;\n",
       "            color:  #000000;\n",
       "        }#T_6dbcd_row4_col6{\n",
       "            background-color:  #7a9df8;\n",
       "            color:  #000000;\n",
       "        }#T_6dbcd_row5_col0{\n",
       "            background-color:  #c7d7f0;\n",
       "            color:  #000000;\n",
       "        }#T_6dbcd_row5_col4{\n",
       "            background-color:  #9ebeff;\n",
       "            color:  #000000;\n",
       "        }#T_6dbcd_row5_col6{\n",
       "            background-color:  #b1cbfc;\n",
       "            color:  #000000;\n",
       "        }#T_6dbcd_row6_col1{\n",
       "            background-color:  #506bda;\n",
       "            color:  #000000;\n",
       "        }#T_6dbcd_row6_col3,#T_6dbcd_row7_col2{\n",
       "            background-color:  #efcebd;\n",
       "            color:  #000000;\n",
       "        }#T_6dbcd_row6_col4{\n",
       "            background-color:  #779af7;\n",
       "            color:  #000000;\n",
       "        }#T_6dbcd_row6_col5{\n",
       "            background-color:  #d3dbe7;\n",
       "            color:  #000000;\n",
       "        }#T_6dbcd_row6_col7{\n",
       "            background-color:  #e6d7cf;\n",
       "            color:  #000000;\n",
       "        }#T_6dbcd_row7_col1{\n",
       "            background-color:  #4e68d8;\n",
       "            color:  #000000;\n",
       "        }#T_6dbcd_row7_col6{\n",
       "            background-color:  #cdd9ec;\n",
       "            color:  #000000;\n",
       "        }</style><table id=\"T_6dbcd_\" ><thead>    <tr>        <th class=\"blank level0\" ></th>        <th class=\"col_heading level0 col0\" >Age</th>        <th class=\"col_heading level0 col1\" >Educ</th>        <th class=\"col_heading level0 col2\" >SES</th>        <th class=\"col_heading level0 col3\" >MMSE</th>        <th class=\"col_heading level0 col4\" >CDR</th>        <th class=\"col_heading level0 col5\" >eTIV</th>        <th class=\"col_heading level0 col6\" >nWBV</th>        <th class=\"col_heading level0 col7\" >ASF</th>    </tr></thead><tbody>\n",
       "                <tr>\n",
       "                        <th id=\"T_6dbcd_level0_row0\" class=\"row_heading level0 row0\" >Age</th>\n",
       "                        <td id=\"T_6dbcd_row0_col0\" class=\"data row0 col0\" >1.000000</td>\n",
       "                        <td id=\"T_6dbcd_row0_col1\" class=\"data row0 col1\" >0.152042</td>\n",
       "                        <td id=\"T_6dbcd_row0_col2\" class=\"data row0 col2\" >0.068891</td>\n",
       "                        <td id=\"T_6dbcd_row0_col3\" class=\"data row0 col3\" >-0.015620</td>\n",
       "                        <td id=\"T_6dbcd_row0_col4\" class=\"data row0 col4\" >0.112484</td>\n",
       "                        <td id=\"T_6dbcd_row0_col5\" class=\"data row0 col5\" >0.040397</td>\n",
       "                        <td id=\"T_6dbcd_row0_col6\" class=\"data row0 col6\" >-0.661090</td>\n",
       "                        <td id=\"T_6dbcd_row0_col7\" class=\"data row0 col7\" >-0.030281</td>\n",
       "            </tr>\n",
       "            <tr>\n",
       "                        <th id=\"T_6dbcd_level0_row1\" class=\"row_heading level0 row1\" >Educ</th>\n",
       "                        <td id=\"T_6dbcd_row1_col0\" class=\"data row1 col0\" >0.152042</td>\n",
       "                        <td id=\"T_6dbcd_row1_col1\" class=\"data row1 col1\" >1.000000</td>\n",
       "                        <td id=\"T_6dbcd_row1_col2\" class=\"data row1 col2\" >-0.296349</td>\n",
       "                        <td id=\"T_6dbcd_row1_col3\" class=\"data row1 col3\" >0.046711</td>\n",
       "                        <td id=\"T_6dbcd_row1_col4\" class=\"data row1 col4\" >0.009363</td>\n",
       "                        <td id=\"T_6dbcd_row1_col5\" class=\"data row1 col5\" >0.212806</td>\n",
       "                        <td id=\"T_6dbcd_row1_col6\" class=\"data row1 col6\" >-0.202092</td>\n",
       "                        <td id=\"T_6dbcd_row1_col7\" class=\"data row1 col7\" >-0.211049</td>\n",
       "            </tr>\n",
       "            <tr>\n",
       "                        <th id=\"T_6dbcd_level0_row2\" class=\"row_heading level0 row2\" >SES</th>\n",
       "                        <td id=\"T_6dbcd_row2_col0\" class=\"data row2 col0\" >0.068891</td>\n",
       "                        <td id=\"T_6dbcd_row2_col1\" class=\"data row2 col1\" >-0.296349</td>\n",
       "                        <td id=\"T_6dbcd_row2_col2\" class=\"data row2 col2\" >1.000000</td>\n",
       "                        <td id=\"T_6dbcd_row2_col3\" class=\"data row2 col3\" >-0.088646</td>\n",
       "                        <td id=\"T_6dbcd_row2_col4\" class=\"data row2 col4\" >0.025285</td>\n",
       "                        <td id=\"T_6dbcd_row2_col5\" class=\"data row2 col5\" >-0.402331</td>\n",
       "                        <td id=\"T_6dbcd_row2_col6\" class=\"data row2 col6\" >0.028695</td>\n",
       "                        <td id=\"T_6dbcd_row2_col7\" class=\"data row2 col7\" >0.417087</td>\n",
       "            </tr>\n",
       "            <tr>\n",
       "                        <th id=\"T_6dbcd_level0_row3\" class=\"row_heading level0 row3\" >MMSE</th>\n",
       "                        <td id=\"T_6dbcd_row3_col0\" class=\"data row3 col0\" >-0.015620</td>\n",
       "                        <td id=\"T_6dbcd_row3_col1\" class=\"data row3 col1\" >0.046711</td>\n",
       "                        <td id=\"T_6dbcd_row3_col2\" class=\"data row3 col2\" >-0.088646</td>\n",
       "                        <td id=\"T_6dbcd_row3_col3\" class=\"data row3 col3\" >1.000000</td>\n",
       "                        <td id=\"T_6dbcd_row3_col4\" class=\"data row3 col4\" >-0.641434</td>\n",
       "                        <td id=\"T_6dbcd_row3_col5\" class=\"data row3 col5\" >0.149977</td>\n",
       "                        <td id=\"T_6dbcd_row3_col6\" class=\"data row3 col6\" >0.314283</td>\n",
       "                        <td id=\"T_6dbcd_row3_col7\" class=\"data row3 col7\" >-0.141010</td>\n",
       "            </tr>\n",
       "            <tr>\n",
       "                        <th id=\"T_6dbcd_level0_row4\" class=\"row_heading level0 row4\" >CDR</th>\n",
       "                        <td id=\"T_6dbcd_row4_col0\" class=\"data row4 col0\" >0.112484</td>\n",
       "                        <td id=\"T_6dbcd_row4_col1\" class=\"data row4 col1\" >0.009363</td>\n",
       "                        <td id=\"T_6dbcd_row4_col2\" class=\"data row4 col2\" >0.025285</td>\n",
       "                        <td id=\"T_6dbcd_row4_col3\" class=\"data row4 col3\" >-0.641434</td>\n",
       "                        <td id=\"T_6dbcd_row4_col4\" class=\"data row4 col4\" >1.000000</td>\n",
       "                        <td id=\"T_6dbcd_row4_col5\" class=\"data row4 col5\" >-0.152676</td>\n",
       "                        <td id=\"T_6dbcd_row4_col6\" class=\"data row4 col6\" >-0.330841</td>\n",
       "                        <td id=\"T_6dbcd_row4_col7\" class=\"data row4 col7\" >0.148594</td>\n",
       "            </tr>\n",
       "            <tr>\n",
       "                        <th id=\"T_6dbcd_level0_row5\" class=\"row_heading level0 row5\" >eTIV</th>\n",
       "                        <td id=\"T_6dbcd_row5_col0\" class=\"data row5 col0\" >0.040397</td>\n",
       "                        <td id=\"T_6dbcd_row5_col1\" class=\"data row5 col1\" >0.212806</td>\n",
       "                        <td id=\"T_6dbcd_row5_col2\" class=\"data row5 col2\" >-0.402331</td>\n",
       "                        <td id=\"T_6dbcd_row5_col3\" class=\"data row5 col3\" >0.149977</td>\n",
       "                        <td id=\"T_6dbcd_row5_col4\" class=\"data row5 col4\" >-0.152676</td>\n",
       "                        <td id=\"T_6dbcd_row5_col5\" class=\"data row5 col5\" >1.000000</td>\n",
       "                        <td id=\"T_6dbcd_row5_col6\" class=\"data row5 col6\" >-0.072013</td>\n",
       "                        <td id=\"T_6dbcd_row5_col7\" class=\"data row5 col7\" >-0.993635</td>\n",
       "            </tr>\n",
       "            <tr>\n",
       "                        <th id=\"T_6dbcd_level0_row6\" class=\"row_heading level0 row6\" >nWBV</th>\n",
       "                        <td id=\"T_6dbcd_row6_col0\" class=\"data row6 col0\" >-0.661090</td>\n",
       "                        <td id=\"T_6dbcd_row6_col1\" class=\"data row6 col1\" >-0.202092</td>\n",
       "                        <td id=\"T_6dbcd_row6_col2\" class=\"data row6 col2\" >0.028695</td>\n",
       "                        <td id=\"T_6dbcd_row6_col3\" class=\"data row6 col3\" >0.314283</td>\n",
       "                        <td id=\"T_6dbcd_row6_col4\" class=\"data row6 col4\" >-0.330841</td>\n",
       "                        <td id=\"T_6dbcd_row6_col5\" class=\"data row6 col5\" >-0.072013</td>\n",
       "                        <td id=\"T_6dbcd_row6_col6\" class=\"data row6 col6\" >1.000000</td>\n",
       "                        <td id=\"T_6dbcd_row6_col7\" class=\"data row6 col7\" >0.073801</td>\n",
       "            </tr>\n",
       "            <tr>\n",
       "                        <th id=\"T_6dbcd_level0_row7\" class=\"row_heading level0 row7\" >ASF</th>\n",
       "                        <td id=\"T_6dbcd_row7_col0\" class=\"data row7 col0\" >-0.030281</td>\n",
       "                        <td id=\"T_6dbcd_row7_col1\" class=\"data row7 col1\" >-0.211049</td>\n",
       "                        <td id=\"T_6dbcd_row7_col2\" class=\"data row7 col2\" >0.417087</td>\n",
       "                        <td id=\"T_6dbcd_row7_col3\" class=\"data row7 col3\" >-0.141010</td>\n",
       "                        <td id=\"T_6dbcd_row7_col4\" class=\"data row7 col4\" >0.148594</td>\n",
       "                        <td id=\"T_6dbcd_row7_col5\" class=\"data row7 col5\" >-0.993635</td>\n",
       "                        <td id=\"T_6dbcd_row7_col6\" class=\"data row7 col6\" >0.073801</td>\n",
       "                        <td id=\"T_6dbcd_row7_col7\" class=\"data row7 col7\" >1.000000</td>\n",
       "            </tr>\n",
       "    </tbody></table>"
      ],
      "text/plain": [
       "<pandas.io.formats.style.Styler at 0x7f9706356310>"
      ]
     },
     "execution_count": 144,
     "metadata": {},
     "output_type": "execute_result"
    }
   ],
   "source": [
    "Corr= Cross_Long_M.corr()\n",
    "Corr.style.background_gradient(cmap='coolwarm')"
   ]
  },
  {
   "cell_type": "code",
   "execution_count": null,
   "id": "111bebb3",
   "metadata": {},
   "outputs": [],
   "source": []
  }
 ],
 "metadata": {
  "kernelspec": {
   "display_name": "Python 3",
   "language": "python",
   "name": "python3"
  },
  "language_info": {
   "codemirror_mode": {
    "name": "ipython",
    "version": 3
   },
   "file_extension": ".py",
   "mimetype": "text/x-python",
   "name": "python",
   "nbconvert_exporter": "python",
   "pygments_lexer": "ipython3",
   "version": "3.8.2"
  }
 },
 "nbformat": 4,
 "nbformat_minor": 5
}
